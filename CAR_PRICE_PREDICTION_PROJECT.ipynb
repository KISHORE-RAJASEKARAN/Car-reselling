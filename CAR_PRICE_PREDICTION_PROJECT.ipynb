{
 "cells": [
  {
   "cell_type": "code",
   "execution_count": 200,
   "id": "68c73670",
   "metadata": {
    "ExecuteTime": {
     "end_time": "2022-04-01T10:43:45.150022Z",
     "start_time": "2022-04-01T10:43:45.141595Z"
    }
   },
   "outputs": [],
   "source": [
    "#Load the libraries\n",
    "import numpy as np\n",
    "import pandas as pd\n",
    "import matplotlib.pyplot as plt\n",
    "import tensorflow as tf\n"
   ]
  },
  {
   "cell_type": "code",
   "execution_count": 201,
   "id": "f92945af",
   "metadata": {
    "ExecuteTime": {
     "end_time": "2022-04-01T10:43:45.243866Z",
     "start_time": "2022-04-01T10:43:45.154618Z"
    }
   },
   "outputs": [],
   "source": [
    "df = pd.read_csv(\"Desktop/Cars_final.csv\")"
   ]
  },
  {
   "cell_type": "code",
   "execution_count": 202,
   "id": "39c8d65a",
   "metadata": {
    "ExecuteTime": {
     "end_time": "2022-04-01T10:43:45.290642Z",
     "start_time": "2022-04-01T10:43:45.246559Z"
    }
   },
   "outputs": [
    {
     "data": {
      "text/html": [
       "<div>\n",
       "<style scoped>\n",
       "    .dataframe tbody tr th:only-of-type {\n",
       "        vertical-align: middle;\n",
       "    }\n",
       "\n",
       "    .dataframe tbody tr th {\n",
       "        vertical-align: top;\n",
       "    }\n",
       "\n",
       "    .dataframe thead th {\n",
       "        text-align: right;\n",
       "    }\n",
       "</style>\n",
       "<table border=\"1\" class=\"dataframe\">\n",
       "  <thead>\n",
       "    <tr style=\"text-align: right;\">\n",
       "      <th></th>\n",
       "      <th>CAR_NAME</th>\n",
       "      <th>YEAR</th>\n",
       "      <th>KM_DRIVEN</th>\n",
       "      <th>FULE_TYPE</th>\n",
       "      <th>MILAGE</th>\n",
       "      <th>TRANSMISSION_TYPE</th>\n",
       "      <th>SELLER_TYPE</th>\n",
       "      <th>ENGINE</th>\n",
       "      <th>SEATS</th>\n",
       "      <th>Car_Location</th>\n",
       "      <th>SELLING_PRICE</th>\n",
       "    </tr>\n",
       "  </thead>\n",
       "  <tbody>\n",
       "    <tr>\n",
       "      <th>0</th>\n",
       "      <td>Maruti Alto Std</td>\n",
       "      <td>2012.0</td>\n",
       "      <td>1,20,000</td>\n",
       "      <td>Petrol</td>\n",
       "      <td>19.70</td>\n",
       "      <td>Manual</td>\n",
       "      <td>Individual</td>\n",
       "      <td>796</td>\n",
       "      <td>5.0</td>\n",
       "      <td>Delhi</td>\n",
       "      <td>1.2</td>\n",
       "    </tr>\n",
       "    <tr>\n",
       "      <th>1</th>\n",
       "      <td>Hyundai Grand i10 Asta</td>\n",
       "      <td>2016.0</td>\n",
       "      <td>20,000</td>\n",
       "      <td>Petrol</td>\n",
       "      <td>18.90</td>\n",
       "      <td>Manual</td>\n",
       "      <td>Individual</td>\n",
       "      <td>1197</td>\n",
       "      <td>5.0</td>\n",
       "      <td>Delhi</td>\n",
       "      <td>5.5</td>\n",
       "    </tr>\n",
       "    <tr>\n",
       "      <th>2</th>\n",
       "      <td>Hyundai i20 Asta</td>\n",
       "      <td>2010.0</td>\n",
       "      <td>60,000</td>\n",
       "      <td>Petrol</td>\n",
       "      <td>17.00</td>\n",
       "      <td>Manual</td>\n",
       "      <td>Individual</td>\n",
       "      <td>1197</td>\n",
       "      <td>5.0</td>\n",
       "      <td>Delhi</td>\n",
       "      <td>2.15</td>\n",
       "    </tr>\n",
       "    <tr>\n",
       "      <th>3</th>\n",
       "      <td>Maruti Alto K10 2010-2014 VXI</td>\n",
       "      <td>2012.0</td>\n",
       "      <td>37,000</td>\n",
       "      <td>Petrol</td>\n",
       "      <td>20.92</td>\n",
       "      <td>Manual</td>\n",
       "      <td>Individual</td>\n",
       "      <td>998</td>\n",
       "      <td>5.0</td>\n",
       "      <td>Delhi</td>\n",
       "      <td>2.26</td>\n",
       "    </tr>\n",
       "    <tr>\n",
       "      <th>4</th>\n",
       "      <td>Ford Ecosport 2015-2021 1.5 TDCi Titanium BSIV</td>\n",
       "      <td>2015.0</td>\n",
       "      <td>30,000</td>\n",
       "      <td>Diesel</td>\n",
       "      <td>22.77</td>\n",
       "      <td>Manual</td>\n",
       "      <td>Dealer</td>\n",
       "      <td>1498</td>\n",
       "      <td>5.0</td>\n",
       "      <td>Delhi</td>\n",
       "      <td>5.7</td>\n",
       "    </tr>\n",
       "    <tr>\n",
       "      <th>...</th>\n",
       "      <td>...</td>\n",
       "      <td>...</td>\n",
       "      <td>...</td>\n",
       "      <td>...</td>\n",
       "      <td>...</td>\n",
       "      <td>...</td>\n",
       "      <td>...</td>\n",
       "      <td>...</td>\n",
       "      <td>...</td>\n",
       "      <td>...</td>\n",
       "      <td>...</td>\n",
       "    </tr>\n",
       "    <tr>\n",
       "      <th>20013</th>\n",
       "      <td>NaN</td>\n",
       "      <td>NaN</td>\n",
       "      <td>NaN</td>\n",
       "      <td>NaN</td>\n",
       "      <td>NaN</td>\n",
       "      <td>NaN</td>\n",
       "      <td>NaN</td>\n",
       "      <td>NaN</td>\n",
       "      <td>NaN</td>\n",
       "      <td>NaN</td>\n",
       "      <td>NaN</td>\n",
       "    </tr>\n",
       "    <tr>\n",
       "      <th>20014</th>\n",
       "      <td>NaN</td>\n",
       "      <td>NaN</td>\n",
       "      <td>NaN</td>\n",
       "      <td>NaN</td>\n",
       "      <td>NaN</td>\n",
       "      <td>NaN</td>\n",
       "      <td>NaN</td>\n",
       "      <td>NaN</td>\n",
       "      <td>NaN</td>\n",
       "      <td>NaN</td>\n",
       "      <td>NaN</td>\n",
       "    </tr>\n",
       "    <tr>\n",
       "      <th>20015</th>\n",
       "      <td>NaN</td>\n",
       "      <td>NaN</td>\n",
       "      <td>NaN</td>\n",
       "      <td>NaN</td>\n",
       "      <td>NaN</td>\n",
       "      <td>NaN</td>\n",
       "      <td>NaN</td>\n",
       "      <td>NaN</td>\n",
       "      <td>NaN</td>\n",
       "      <td>NaN</td>\n",
       "      <td>NaN</td>\n",
       "    </tr>\n",
       "    <tr>\n",
       "      <th>20016</th>\n",
       "      <td>NaN</td>\n",
       "      <td>NaN</td>\n",
       "      <td>NaN</td>\n",
       "      <td>NaN</td>\n",
       "      <td>NaN</td>\n",
       "      <td>NaN</td>\n",
       "      <td>NaN</td>\n",
       "      <td>NaN</td>\n",
       "      <td>NaN</td>\n",
       "      <td>NaN</td>\n",
       "      <td>NaN</td>\n",
       "    </tr>\n",
       "    <tr>\n",
       "      <th>20017</th>\n",
       "      <td>NaN</td>\n",
       "      <td>NaN</td>\n",
       "      <td>NaN</td>\n",
       "      <td>NaN</td>\n",
       "      <td>NaN</td>\n",
       "      <td>NaN</td>\n",
       "      <td>NaN</td>\n",
       "      <td>NaN</td>\n",
       "      <td>NaN</td>\n",
       "      <td></td>\n",
       "      <td>NaN</td>\n",
       "    </tr>\n",
       "  </tbody>\n",
       "</table>\n",
       "<p>20018 rows × 11 columns</p>\n",
       "</div>"
      ],
      "text/plain": [
       "                                             CAR_NAME    YEAR KM_DRIVEN  \\\n",
       "0                                     Maruti Alto Std  2012.0  1,20,000   \n",
       "1                              Hyundai Grand i10 Asta  2016.0    20,000   \n",
       "2                                    Hyundai i20 Asta  2010.0    60,000   \n",
       "3                       Maruti Alto K10 2010-2014 VXI  2012.0    37,000   \n",
       "4      Ford Ecosport 2015-2021 1.5 TDCi Titanium BSIV  2015.0    30,000   \n",
       "...                                               ...     ...       ...   \n",
       "20013                                             NaN     NaN       NaN   \n",
       "20014                                             NaN     NaN       NaN   \n",
       "20015                                             NaN     NaN       NaN   \n",
       "20016                                             NaN     NaN       NaN   \n",
       "20017                                             NaN     NaN       NaN   \n",
       "\n",
       "      FULE_TYPE  MILAGE TRANSMISSION_TYPE SELLER_TYPE ENGINE  SEATS  \\\n",
       "0        Petrol   19.70            Manual  Individual    796    5.0   \n",
       "1        Petrol   18.90            Manual  Individual   1197    5.0   \n",
       "2        Petrol   17.00            Manual  Individual   1197    5.0   \n",
       "3        Petrol   20.92            Manual  Individual    998    5.0   \n",
       "4        Diesel   22.77            Manual      Dealer   1498    5.0   \n",
       "...         ...     ...               ...         ...    ...    ...   \n",
       "20013       NaN     NaN               NaN         NaN    NaN    NaN   \n",
       "20014       NaN     NaN               NaN         NaN    NaN    NaN   \n",
       "20015       NaN     NaN               NaN         NaN    NaN    NaN   \n",
       "20016       NaN     NaN               NaN         NaN    NaN    NaN   \n",
       "20017       NaN     NaN               NaN         NaN    NaN    NaN   \n",
       "\n",
       "      Car_Location SELLING_PRICE  \n",
       "0            Delhi           1.2  \n",
       "1            Delhi           5.5  \n",
       "2            Delhi          2.15  \n",
       "3            Delhi          2.26  \n",
       "4            Delhi           5.7  \n",
       "...            ...           ...  \n",
       "20013          NaN           NaN  \n",
       "20014          NaN           NaN  \n",
       "20015          NaN           NaN  \n",
       "20016          NaN           NaN  \n",
       "20017                        NaN  \n",
       "\n",
       "[20018 rows x 11 columns]"
      ]
     },
     "execution_count": 202,
     "metadata": {},
     "output_type": "execute_result"
    }
   ],
   "source": [
    "df"
   ]
  },
  {
   "cell_type": "code",
   "execution_count": 203,
   "id": "fdb7538a",
   "metadata": {
    "ExecuteTime": {
     "end_time": "2022-04-01T10:43:45.322558Z",
     "start_time": "2022-04-01T10:43:45.293557Z"
    }
   },
   "outputs": [
    {
     "data": {
      "text/html": [
       "<div>\n",
       "<style scoped>\n",
       "    .dataframe tbody tr th:only-of-type {\n",
       "        vertical-align: middle;\n",
       "    }\n",
       "\n",
       "    .dataframe tbody tr th {\n",
       "        vertical-align: top;\n",
       "    }\n",
       "\n",
       "    .dataframe thead th {\n",
       "        text-align: right;\n",
       "    }\n",
       "</style>\n",
       "<table border=\"1\" class=\"dataframe\">\n",
       "  <thead>\n",
       "    <tr style=\"text-align: right;\">\n",
       "      <th></th>\n",
       "      <th>CAR_NAME</th>\n",
       "      <th>YEAR</th>\n",
       "      <th>KM_DRIVEN</th>\n",
       "      <th>FULE_TYPE</th>\n",
       "      <th>MILAGE</th>\n",
       "      <th>TRANSMISSION_TYPE</th>\n",
       "      <th>SELLER_TYPE</th>\n",
       "      <th>ENGINE</th>\n",
       "      <th>SEATS</th>\n",
       "      <th>Car_Location</th>\n",
       "      <th>SELLING_PRICE</th>\n",
       "    </tr>\n",
       "  </thead>\n",
       "  <tbody>\n",
       "    <tr>\n",
       "      <th>0</th>\n",
       "      <td>Maruti Alto Std</td>\n",
       "      <td>2012.0</td>\n",
       "      <td>1,20,000</td>\n",
       "      <td>Petrol</td>\n",
       "      <td>19.70</td>\n",
       "      <td>Manual</td>\n",
       "      <td>Individual</td>\n",
       "      <td>796</td>\n",
       "      <td>5.0</td>\n",
       "      <td>Delhi</td>\n",
       "      <td>1.2</td>\n",
       "    </tr>\n",
       "    <tr>\n",
       "      <th>1</th>\n",
       "      <td>Hyundai Grand i10 Asta</td>\n",
       "      <td>2016.0</td>\n",
       "      <td>20,000</td>\n",
       "      <td>Petrol</td>\n",
       "      <td>18.90</td>\n",
       "      <td>Manual</td>\n",
       "      <td>Individual</td>\n",
       "      <td>1197</td>\n",
       "      <td>5.0</td>\n",
       "      <td>Delhi</td>\n",
       "      <td>5.5</td>\n",
       "    </tr>\n",
       "    <tr>\n",
       "      <th>2</th>\n",
       "      <td>Hyundai i20 Asta</td>\n",
       "      <td>2010.0</td>\n",
       "      <td>60,000</td>\n",
       "      <td>Petrol</td>\n",
       "      <td>17.00</td>\n",
       "      <td>Manual</td>\n",
       "      <td>Individual</td>\n",
       "      <td>1197</td>\n",
       "      <td>5.0</td>\n",
       "      <td>Delhi</td>\n",
       "      <td>2.15</td>\n",
       "    </tr>\n",
       "    <tr>\n",
       "      <th>3</th>\n",
       "      <td>Maruti Alto K10 2010-2014 VXI</td>\n",
       "      <td>2012.0</td>\n",
       "      <td>37,000</td>\n",
       "      <td>Petrol</td>\n",
       "      <td>20.92</td>\n",
       "      <td>Manual</td>\n",
       "      <td>Individual</td>\n",
       "      <td>998</td>\n",
       "      <td>5.0</td>\n",
       "      <td>Delhi</td>\n",
       "      <td>2.26</td>\n",
       "    </tr>\n",
       "    <tr>\n",
       "      <th>4</th>\n",
       "      <td>Ford Ecosport 2015-2021 1.5 TDCi Titanium BSIV</td>\n",
       "      <td>2015.0</td>\n",
       "      <td>30,000</td>\n",
       "      <td>Diesel</td>\n",
       "      <td>22.77</td>\n",
       "      <td>Manual</td>\n",
       "      <td>Dealer</td>\n",
       "      <td>1498</td>\n",
       "      <td>5.0</td>\n",
       "      <td>Delhi</td>\n",
       "      <td>5.7</td>\n",
       "    </tr>\n",
       "  </tbody>\n",
       "</table>\n",
       "</div>"
      ],
      "text/plain": [
       "                                         CAR_NAME    YEAR KM_DRIVEN FULE_TYPE  \\\n",
       "0                                 Maruti Alto Std  2012.0  1,20,000    Petrol   \n",
       "1                          Hyundai Grand i10 Asta  2016.0    20,000    Petrol   \n",
       "2                                Hyundai i20 Asta  2010.0    60,000    Petrol   \n",
       "3                   Maruti Alto K10 2010-2014 VXI  2012.0    37,000    Petrol   \n",
       "4  Ford Ecosport 2015-2021 1.5 TDCi Titanium BSIV  2015.0    30,000    Diesel   \n",
       "\n",
       "   MILAGE TRANSMISSION_TYPE SELLER_TYPE ENGINE  SEATS Car_Location  \\\n",
       "0   19.70            Manual  Individual    796    5.0        Delhi   \n",
       "1   18.90            Manual  Individual   1197    5.0        Delhi   \n",
       "2   17.00            Manual  Individual   1197    5.0        Delhi   \n",
       "3   20.92            Manual  Individual    998    5.0        Delhi   \n",
       "4   22.77            Manual      Dealer   1498    5.0        Delhi   \n",
       "\n",
       "  SELLING_PRICE  \n",
       "0           1.2  \n",
       "1           5.5  \n",
       "2          2.15  \n",
       "3          2.26  \n",
       "4           5.7  "
      ]
     },
     "execution_count": 203,
     "metadata": {},
     "output_type": "execute_result"
    }
   ],
   "source": [
    "#First 5 entries\n",
    "df.head()"
   ]
  },
  {
   "cell_type": "code",
   "execution_count": 204,
   "id": "74cda051",
   "metadata": {
    "ExecuteTime": {
     "end_time": "2022-04-01T10:43:45.353686Z",
     "start_time": "2022-04-01T10:43:45.326565Z"
    }
   },
   "outputs": [
    {
     "data": {
      "text/html": [
       "<div>\n",
       "<style scoped>\n",
       "    .dataframe tbody tr th:only-of-type {\n",
       "        vertical-align: middle;\n",
       "    }\n",
       "\n",
       "    .dataframe tbody tr th {\n",
       "        vertical-align: top;\n",
       "    }\n",
       "\n",
       "    .dataframe thead th {\n",
       "        text-align: right;\n",
       "    }\n",
       "</style>\n",
       "<table border=\"1\" class=\"dataframe\">\n",
       "  <thead>\n",
       "    <tr style=\"text-align: right;\">\n",
       "      <th></th>\n",
       "      <th>CAR_NAME</th>\n",
       "      <th>YEAR</th>\n",
       "      <th>KM_DRIVEN</th>\n",
       "      <th>FULE_TYPE</th>\n",
       "      <th>MILAGE</th>\n",
       "      <th>TRANSMISSION_TYPE</th>\n",
       "      <th>SELLER_TYPE</th>\n",
       "      <th>ENGINE</th>\n",
       "      <th>SEATS</th>\n",
       "      <th>Car_Location</th>\n",
       "      <th>SELLING_PRICE</th>\n",
       "    </tr>\n",
       "  </thead>\n",
       "  <tbody>\n",
       "    <tr>\n",
       "      <th>20013</th>\n",
       "      <td>NaN</td>\n",
       "      <td>NaN</td>\n",
       "      <td>NaN</td>\n",
       "      <td>NaN</td>\n",
       "      <td>NaN</td>\n",
       "      <td>NaN</td>\n",
       "      <td>NaN</td>\n",
       "      <td>NaN</td>\n",
       "      <td>NaN</td>\n",
       "      <td>NaN</td>\n",
       "      <td>NaN</td>\n",
       "    </tr>\n",
       "    <tr>\n",
       "      <th>20014</th>\n",
       "      <td>NaN</td>\n",
       "      <td>NaN</td>\n",
       "      <td>NaN</td>\n",
       "      <td>NaN</td>\n",
       "      <td>NaN</td>\n",
       "      <td>NaN</td>\n",
       "      <td>NaN</td>\n",
       "      <td>NaN</td>\n",
       "      <td>NaN</td>\n",
       "      <td>NaN</td>\n",
       "      <td>NaN</td>\n",
       "    </tr>\n",
       "    <tr>\n",
       "      <th>20015</th>\n",
       "      <td>NaN</td>\n",
       "      <td>NaN</td>\n",
       "      <td>NaN</td>\n",
       "      <td>NaN</td>\n",
       "      <td>NaN</td>\n",
       "      <td>NaN</td>\n",
       "      <td>NaN</td>\n",
       "      <td>NaN</td>\n",
       "      <td>NaN</td>\n",
       "      <td>NaN</td>\n",
       "      <td>NaN</td>\n",
       "    </tr>\n",
       "    <tr>\n",
       "      <th>20016</th>\n",
       "      <td>NaN</td>\n",
       "      <td>NaN</td>\n",
       "      <td>NaN</td>\n",
       "      <td>NaN</td>\n",
       "      <td>NaN</td>\n",
       "      <td>NaN</td>\n",
       "      <td>NaN</td>\n",
       "      <td>NaN</td>\n",
       "      <td>NaN</td>\n",
       "      <td>NaN</td>\n",
       "      <td>NaN</td>\n",
       "    </tr>\n",
       "    <tr>\n",
       "      <th>20017</th>\n",
       "      <td>NaN</td>\n",
       "      <td>NaN</td>\n",
       "      <td>NaN</td>\n",
       "      <td>NaN</td>\n",
       "      <td>NaN</td>\n",
       "      <td>NaN</td>\n",
       "      <td>NaN</td>\n",
       "      <td>NaN</td>\n",
       "      <td>NaN</td>\n",
       "      <td></td>\n",
       "      <td>NaN</td>\n",
       "    </tr>\n",
       "  </tbody>\n",
       "</table>\n",
       "</div>"
      ],
      "text/plain": [
       "      CAR_NAME  YEAR KM_DRIVEN FULE_TYPE  MILAGE TRANSMISSION_TYPE  \\\n",
       "20013      NaN   NaN       NaN       NaN     NaN               NaN   \n",
       "20014      NaN   NaN       NaN       NaN     NaN               NaN   \n",
       "20015      NaN   NaN       NaN       NaN     NaN               NaN   \n",
       "20016      NaN   NaN       NaN       NaN     NaN               NaN   \n",
       "20017      NaN   NaN       NaN       NaN     NaN               NaN   \n",
       "\n",
       "      SELLER_TYPE ENGINE  SEATS Car_Location SELLING_PRICE  \n",
       "20013         NaN    NaN    NaN          NaN           NaN  \n",
       "20014         NaN    NaN    NaN          NaN           NaN  \n",
       "20015         NaN    NaN    NaN          NaN           NaN  \n",
       "20016         NaN    NaN    NaN          NaN           NaN  \n",
       "20017         NaN    NaN    NaN                        NaN  "
      ]
     },
     "execution_count": 204,
     "metadata": {},
     "output_type": "execute_result"
    }
   ],
   "source": [
    "#Last 5 entries\n",
    "df.tail()"
   ]
  },
  {
   "cell_type": "code",
   "execution_count": 205,
   "id": "7674dd45",
   "metadata": {
    "ExecuteTime": {
     "end_time": "2022-04-01T10:43:45.368628Z",
     "start_time": "2022-04-01T10:43:45.356633Z"
    }
   },
   "outputs": [
    {
     "data": {
      "text/plain": [
       "(20018, 11)"
      ]
     },
     "execution_count": 205,
     "metadata": {},
     "output_type": "execute_result"
    }
   ],
   "source": [
    "#Number of rows and columns\n",
    "df.shape"
   ]
  },
  {
   "cell_type": "code",
   "execution_count": 206,
   "id": "d154d201",
   "metadata": {
    "ExecuteTime": {
     "end_time": "2022-04-01T10:43:45.384668Z",
     "start_time": "2022-04-01T10:43:45.371631Z"
    }
   },
   "outputs": [
    {
     "data": {
      "text/plain": [
       "CAR_NAME              object\n",
       "YEAR                 float64\n",
       "KM_DRIVEN             object\n",
       "FULE_TYPE             object\n",
       "MILAGE               float64\n",
       "TRANSMISSION_TYPE     object\n",
       "SELLER_TYPE           object\n",
       "ENGINE                object\n",
       "SEATS                float64\n",
       "Car_Location          object\n",
       "SELLING_PRICE         object\n",
       "dtype: object"
      ]
     },
     "execution_count": 206,
     "metadata": {},
     "output_type": "execute_result"
    }
   ],
   "source": [
    "#Data types\n",
    "df.dtypes"
   ]
  },
  {
   "cell_type": "code",
   "execution_count": 207,
   "id": "0628f050",
   "metadata": {
    "ExecuteTime": {
     "end_time": "2022-04-01T10:43:45.446680Z",
     "start_time": "2022-04-01T10:43:45.387630Z"
    }
   },
   "outputs": [
    {
     "name": "stdout",
     "output_type": "stream",
     "text": [
      "<class 'pandas.core.frame.DataFrame'>\n",
      "RangeIndex: 20018 entries, 0 to 20017\n",
      "Data columns (total 11 columns):\n",
      " #   Column             Non-Null Count  Dtype  \n",
      "---  ------             --------------  -----  \n",
      " 0   CAR_NAME           19980 non-null  object \n",
      " 1   YEAR               19980 non-null  float64\n",
      " 2   KM_DRIVEN          19980 non-null  object \n",
      " 3   FULE_TYPE          19980 non-null  object \n",
      " 4   MILAGE             19980 non-null  float64\n",
      " 5   TRANSMISSION_TYPE  19980 non-null  object \n",
      " 6   SELLER_TYPE        19980 non-null  object \n",
      " 7   ENGINE             19921 non-null  object \n",
      " 8   SEATS              19852 non-null  float64\n",
      " 9   Car_Location       20005 non-null  object \n",
      " 10  SELLING_PRICE      19980 non-null  object \n",
      "dtypes: float64(3), object(8)\n",
      "memory usage: 1.7+ MB\n"
     ]
    }
   ],
   "source": [
    "#Detail of data\n",
    "df.info()"
   ]
  },
  {
   "cell_type": "code",
   "execution_count": 208,
   "id": "afde393e",
   "metadata": {
    "ExecuteTime": {
     "end_time": "2022-04-01T10:43:45.510681Z",
     "start_time": "2022-04-01T10:43:45.449687Z"
    }
   },
   "outputs": [
    {
     "data": {
      "text/plain": [
       "CAR_NAME              38\n",
       "YEAR                  38\n",
       "KM_DRIVEN             38\n",
       "FULE_TYPE             38\n",
       "MILAGE                38\n",
       "TRANSMISSION_TYPE     38\n",
       "SELLER_TYPE           38\n",
       "ENGINE                97\n",
       "SEATS                166\n",
       "Car_Location          13\n",
       "SELLING_PRICE         38\n",
       "dtype: int64"
      ]
     },
     "execution_count": 208,
     "metadata": {},
     "output_type": "execute_result"
    }
   ],
   "source": [
    "#Check the null values\n",
    "df.isnull().sum()"
   ]
  },
  {
   "cell_type": "code",
   "execution_count": 209,
   "id": "3d2f36d4",
   "metadata": {
    "ExecuteTime": {
     "end_time": "2022-04-01T10:43:45.558733Z",
     "start_time": "2022-04-01T10:43:45.513679Z"
    }
   },
   "outputs": [
    {
     "data": {
      "text/plain": [
       "580"
      ]
     },
     "execution_count": 209,
     "metadata": {},
     "output_type": "execute_result"
    }
   ],
   "source": [
    "# Count the total null values\n",
    "df.isnull().sum().sum()"
   ]
  },
  {
   "cell_type": "code",
   "execution_count": 210,
   "id": "97bac98e",
   "metadata": {
    "ExecuteTime": {
     "end_time": "2022-04-01T10:43:45.589731Z",
     "start_time": "2022-04-01T10:43:45.565539Z"
    }
   },
   "outputs": [
    {
     "data": {
      "text/plain": [
       "['CAR_NAME',\n",
       " 'YEAR',\n",
       " 'KM_DRIVEN',\n",
       " 'FULE_TYPE',\n",
       " 'MILAGE',\n",
       " 'TRANSMISSION_TYPE',\n",
       " 'SELLER_TYPE',\n",
       " 'ENGINE',\n",
       " 'SEATS',\n",
       " 'Car_Location',\n",
       " 'SELLING_PRICE']"
      ]
     },
     "execution_count": 210,
     "metadata": {},
     "output_type": "execute_result"
    }
   ],
   "source": [
    "#Check the columns missing values \n",
    "[features for features in df.columns if df[features].isnull().sum()>0]"
   ]
  },
  {
   "cell_type": "code",
   "execution_count": 211,
   "id": "aa9f259a",
   "metadata": {
    "ExecuteTime": {
     "end_time": "2022-04-01T10:43:45.666796Z",
     "start_time": "2022-04-01T10:43:45.592912Z"
    }
   },
   "outputs": [],
   "source": [
    "#Handling the Problem\n",
    "missing_value=[\"N/a\",\"na\",np.nan]\n",
    "df = pd.read_csv(\"Desktop/Cars_final.csv\",na_values=missing_value)"
   ]
  },
  {
   "cell_type": "code",
   "execution_count": 212,
   "id": "c4c3ca1a",
   "metadata": {
    "ExecuteTime": {
     "end_time": "2022-04-01T10:43:46.421810Z",
     "start_time": "2022-04-01T10:43:45.668727Z"
    }
   },
   "outputs": [
    {
     "data": {
      "text/plain": [
       "<AxesSubplot:>"
      ]
     },
     "execution_count": 212,
     "metadata": {},
     "output_type": "execute_result"
    },
    {
     "data": {
      "image/png": "[encoded data removed]",
      "text/plain": [
       "<Figure size 432x288 with 2 Axes>"
      ]
     },
     "metadata": {
      "needs_background": "light"
     },
     "output_type": "display_data"
    }
   ],
   "source": [
    "import numpy as np\n",
    "import matplotlib.pyplot as plt\n",
    "import seaborn as sns\n",
    "%matplotlib inline\n",
    "sns.heatmap(df.isnull(), yticklabels=False)    #missing values are too small.."
   ]
  },
  {
   "cell_type": "markdown",
   "id": "73f9e5d7",
   "metadata": {},
   "source": [
    "# Drop null values"
   ]
  },
  {
   "cell_type": "code",
   "execution_count": 213,
   "id": "e19414fd",
   "metadata": {
    "ExecuteTime": {
     "end_time": "2022-04-01T10:43:46.515862Z",
     "start_time": "2022-04-01T10:43:46.426774Z"
    }
   },
   "outputs": [],
   "source": [
    "#Drop the null values from all the columns\n",
    "df_2 = df.dropna(subset=['CAR_NAME', 'YEAR', 'KM_DRIVEN', 'FULE_TYPE', 'SELLING_PRICE', 'MILAGE','TRANSMISSION_TYPE', 'SELLER_TYPE', 'ENGINE', 'SEATS', 'Car_Location'])"
   ]
  },
  {
   "cell_type": "code",
   "execution_count": 214,
   "id": "b4cc7b29",
   "metadata": {
    "ExecuteTime": {
     "end_time": "2022-04-01T10:43:46.594052Z",
     "start_time": "2022-04-01T10:43:46.520730Z"
    }
   },
   "outputs": [
    {
     "data": {
      "text/plain": [
       "CAR_NAME             0\n",
       "YEAR                 0\n",
       "KM_DRIVEN            0\n",
       "FULE_TYPE            0\n",
       "MILAGE               0\n",
       "TRANSMISSION_TYPE    0\n",
       "SELLER_TYPE          0\n",
       "ENGINE               0\n",
       "SEATS                0\n",
       "Car_Location         0\n",
       "SELLING_PRICE        0\n",
       "dtype: int64"
      ]
     },
     "execution_count": 214,
     "metadata": {},
     "output_type": "execute_result"
    }
   ],
   "source": [
    "df_2.isnull().sum()"
   ]
  },
  {
   "cell_type": "code",
   "execution_count": 215,
   "id": "8b1807d4",
   "metadata": {
    "ExecuteTime": {
     "end_time": "2022-04-01T10:43:46.609381Z",
     "start_time": "2022-04-01T10:43:46.596380Z"
    }
   },
   "outputs": [
    {
     "data": {
      "text/plain": [
       "(19852, 11)"
      ]
     },
     "execution_count": 215,
     "metadata": {},
     "output_type": "execute_result"
    }
   ],
   "source": [
    "df_2.shape"
   ]
  },
  {
   "cell_type": "code",
   "execution_count": 216,
   "id": "4a9791b3",
   "metadata": {
    "ExecuteTime": {
     "end_time": "2022-04-01T10:43:46.624668Z",
     "start_time": "2022-04-01T10:43:46.612388Z"
    }
   },
   "outputs": [
    {
     "data": {
      "text/plain": [
       "Index(['CAR_NAME', 'YEAR', 'KM_DRIVEN', 'FULE_TYPE', 'MILAGE',\n",
       "       'TRANSMISSION_TYPE', 'SELLER_TYPE', 'ENGINE', 'SEATS', 'Car_Location',\n",
       "       'SELLING_PRICE'],\n",
       "      dtype='object')"
      ]
     },
     "execution_count": 216,
     "metadata": {},
     "output_type": "execute_result"
    }
   ],
   "source": [
    "df_2.columns"
   ]
  },
  {
   "cell_type": "code",
   "execution_count": 217,
   "id": "b09d6a15",
   "metadata": {
    "ExecuteTime": {
     "end_time": "2022-04-01T10:43:46.655873Z",
     "start_time": "2022-04-01T10:43:46.628744Z"
    }
   },
   "outputs": [
    {
     "name": "stdout",
     "output_type": "stream",
     "text": [
      "Diesel      9769\n",
      "Petrol      9690\n",
      "CNG          316\n",
      "LPG           63\n",
      "Electric      14\n",
      "Name: FULE_TYPE, dtype: int64\n",
      "Dealer              11898\n",
      "Individual           7764\n",
      "Trustmark Dealer      190\n",
      "Name: SELLER_TYPE, dtype: int64\n",
      "Manual       15930\n",
      "Automatic     3922\n",
      "Name: TRANSMISSION_TYPE, dtype: int64\n"
     ]
    }
   ],
   "source": [
    "print(df_2.FULE_TYPE.value_counts())           # print the count of 'FULE_TYPE' column\n",
    "print(df_2.SELLER_TYPE.value_counts())         # print the count of 'SELLER_TYPE' column\n",
    "print(df_2.TRANSMISSION_TYPE.value_counts())  # print the count of 'TRANSMISSION_TYPE' column"
   ]
  },
  {
   "cell_type": "code",
   "execution_count": 218,
   "id": "da90e70f",
   "metadata": {
    "ExecuteTime": {
     "end_time": "2022-04-01T10:43:46.749064Z",
     "start_time": "2022-04-01T10:43:46.659880Z"
    }
   },
   "outputs": [
    {
     "name": "stderr",
     "output_type": "stream",
     "text": [
      "C:\\Users\\piyush\\AppData\\Local\\Temp\\ipykernel_22424\\1071287714.py:2: SettingWithCopyWarning: \n",
      "A value is trying to be set on a copy of a slice from a DataFrame.\n",
      "Try using .loc[row_indexer,col_indexer] = value instead\n",
      "\n",
      "See the caveats in the documentation: https://pandas.pydata.org/pandas-docs/stable/user_guide/indexing.html#returning-a-view-versus-a-copy\n",
      "  df_2.replace({'FULE_TYPE':{'Diesel':0,'Petrol':1,'CNG':2,'LPG':3,'Electric':4}},inplace=True)\n"
     ]
    }
   ],
   "source": [
    "# encoding \"FUEL_TYPE\" column\n",
    "df_2.replace({'FULE_TYPE':{'Diesel':0,'Petrol':1,'CNG':2,'LPG':3,'Electric':4}},inplace=True)"
   ]
  },
  {
   "cell_type": "code",
   "execution_count": 219,
   "id": "d67cd491",
   "metadata": {
    "ExecuteTime": {
     "end_time": "2022-04-01T10:43:46.826980Z",
     "start_time": "2022-04-01T10:43:46.752307Z"
    }
   },
   "outputs": [
    {
     "name": "stderr",
     "output_type": "stream",
     "text": [
      "C:\\Users\\piyush\\AppData\\Local\\Temp\\ipykernel_22424\\597970546.py:2: SettingWithCopyWarning: \n",
      "A value is trying to be set on a copy of a slice from a DataFrame.\n",
      "Try using .loc[row_indexer,col_indexer] = value instead\n",
      "\n",
      "See the caveats in the documentation: https://pandas.pydata.org/pandas-docs/stable/user_guide/indexing.html#returning-a-view-versus-a-copy\n",
      "  df_2.replace({'SELLER_TYPE':{'Dealer':0,'Individual':1,'Trustmark Dealer':2}},inplace=True)\n"
     ]
    }
   ],
   "source": [
    "# encoding \"SELLER_TYPE\" column\n",
    "df_2.replace({'SELLER_TYPE':{'Dealer':0,'Individual':1,'Trustmark Dealer':2}},inplace=True)"
   ]
  },
  {
   "cell_type": "code",
   "execution_count": 220,
   "id": "41a30cd8",
   "metadata": {
    "ExecuteTime": {
     "end_time": "2022-04-01T10:43:46.889005Z",
     "start_time": "2022-04-01T10:43:46.829779Z"
    }
   },
   "outputs": [
    {
     "name": "stderr",
     "output_type": "stream",
     "text": [
      "C:\\Users\\piyush\\AppData\\Local\\Temp\\ipykernel_22424\\4057885712.py:2: SettingWithCopyWarning: \n",
      "A value is trying to be set on a copy of a slice from a DataFrame.\n",
      "Try using .loc[row_indexer,col_indexer] = value instead\n",
      "\n",
      "See the caveats in the documentation: https://pandas.pydata.org/pandas-docs/stable/user_guide/indexing.html#returning-a-view-versus-a-copy\n",
      "  df_2.replace({'TRANSMISSION_TYPE':{'Manual':0,'Automatic':1}},inplace=True)\n"
     ]
    }
   ],
   "source": [
    "# encoding \"TRANSMISSION_TYPE\" column\n",
    "df_2.replace({'TRANSMISSION_TYPE':{'Manual':0,'Automatic':1}},inplace=True)"
   ]
  },
  {
   "cell_type": "code",
   "execution_count": 221,
   "id": "3927df7d",
   "metadata": {
    "ExecuteTime": {
     "end_time": "2022-04-01T10:43:46.934957Z",
     "start_time": "2022-04-01T10:43:46.892395Z"
    }
   },
   "outputs": [
    {
     "data": {
      "text/html": [
       "<div>\n",
       "<style scoped>\n",
       "    .dataframe tbody tr th:only-of-type {\n",
       "        vertical-align: middle;\n",
       "    }\n",
       "\n",
       "    .dataframe tbody tr th {\n",
       "        vertical-align: top;\n",
       "    }\n",
       "\n",
       "    .dataframe thead th {\n",
       "        text-align: right;\n",
       "    }\n",
       "</style>\n",
       "<table border=\"1\" class=\"dataframe\">\n",
       "  <thead>\n",
       "    <tr style=\"text-align: right;\">\n",
       "      <th></th>\n",
       "      <th>CAR_NAME</th>\n",
       "      <th>YEAR</th>\n",
       "      <th>KM_DRIVEN</th>\n",
       "      <th>FULE_TYPE</th>\n",
       "      <th>MILAGE</th>\n",
       "      <th>TRANSMISSION_TYPE</th>\n",
       "      <th>SELLER_TYPE</th>\n",
       "      <th>ENGINE</th>\n",
       "      <th>SEATS</th>\n",
       "      <th>Car_Location</th>\n",
       "      <th>SELLING_PRICE</th>\n",
       "    </tr>\n",
       "  </thead>\n",
       "  <tbody>\n",
       "    <tr>\n",
       "      <th>0</th>\n",
       "      <td>Maruti Alto Std</td>\n",
       "      <td>2012.0</td>\n",
       "      <td>1,20,000</td>\n",
       "      <td>1</td>\n",
       "      <td>19.70</td>\n",
       "      <td>0</td>\n",
       "      <td>1</td>\n",
       "      <td>796</td>\n",
       "      <td>5.0</td>\n",
       "      <td>Delhi</td>\n",
       "      <td>1.2</td>\n",
       "    </tr>\n",
       "    <tr>\n",
       "      <th>1</th>\n",
       "      <td>Hyundai Grand i10 Asta</td>\n",
       "      <td>2016.0</td>\n",
       "      <td>20,000</td>\n",
       "      <td>1</td>\n",
       "      <td>18.90</td>\n",
       "      <td>0</td>\n",
       "      <td>1</td>\n",
       "      <td>1197</td>\n",
       "      <td>5.0</td>\n",
       "      <td>Delhi</td>\n",
       "      <td>5.5</td>\n",
       "    </tr>\n",
       "    <tr>\n",
       "      <th>2</th>\n",
       "      <td>Hyundai i20 Asta</td>\n",
       "      <td>2010.0</td>\n",
       "      <td>60,000</td>\n",
       "      <td>1</td>\n",
       "      <td>17.00</td>\n",
       "      <td>0</td>\n",
       "      <td>1</td>\n",
       "      <td>1197</td>\n",
       "      <td>5.0</td>\n",
       "      <td>Delhi</td>\n",
       "      <td>2.15</td>\n",
       "    </tr>\n",
       "    <tr>\n",
       "      <th>3</th>\n",
       "      <td>Maruti Alto K10 2010-2014 VXI</td>\n",
       "      <td>2012.0</td>\n",
       "      <td>37,000</td>\n",
       "      <td>1</td>\n",
       "      <td>20.92</td>\n",
       "      <td>0</td>\n",
       "      <td>1</td>\n",
       "      <td>998</td>\n",
       "      <td>5.0</td>\n",
       "      <td>Delhi</td>\n",
       "      <td>2.26</td>\n",
       "    </tr>\n",
       "    <tr>\n",
       "      <th>4</th>\n",
       "      <td>Ford Ecosport 2015-2021 1.5 TDCi Titanium BSIV</td>\n",
       "      <td>2015.0</td>\n",
       "      <td>30,000</td>\n",
       "      <td>0</td>\n",
       "      <td>22.77</td>\n",
       "      <td>0</td>\n",
       "      <td>0</td>\n",
       "      <td>1498</td>\n",
       "      <td>5.0</td>\n",
       "      <td>Delhi</td>\n",
       "      <td>5.7</td>\n",
       "    </tr>\n",
       "    <tr>\n",
       "      <th>...</th>\n",
       "      <td>...</td>\n",
       "      <td>...</td>\n",
       "      <td>...</td>\n",
       "      <td>...</td>\n",
       "      <td>...</td>\n",
       "      <td>...</td>\n",
       "      <td>...</td>\n",
       "      <td>...</td>\n",
       "      <td>...</td>\n",
       "      <td>...</td>\n",
       "      <td>...</td>\n",
       "    </tr>\n",
       "    <tr>\n",
       "      <th>19999</th>\n",
       "      <td>Toyota Platinum Etios 1.4 GXD</td>\n",
       "      <td>2017.0</td>\n",
       "      <td>69,480</td>\n",
       "      <td>0</td>\n",
       "      <td>23.59</td>\n",
       "      <td>0</td>\n",
       "      <td>0</td>\n",
       "      <td>1364</td>\n",
       "      <td>5.0</td>\n",
       "      <td>Amravati</td>\n",
       "      <td>6.5</td>\n",
       "    </tr>\n",
       "    <tr>\n",
       "      <th>20000</th>\n",
       "      <td>Maruti Ertiga BSIV VXI</td>\n",
       "      <td>2019.0</td>\n",
       "      <td>18,000</td>\n",
       "      <td>1</td>\n",
       "      <td>17.50</td>\n",
       "      <td>0</td>\n",
       "      <td>0</td>\n",
       "      <td>1373</td>\n",
       "      <td>7.0</td>\n",
       "      <td>Amravati</td>\n",
       "      <td>9.25</td>\n",
       "    </tr>\n",
       "    <tr>\n",
       "      <th>20001</th>\n",
       "      <td>Skoda Rapid 1.5 TDI Elegance</td>\n",
       "      <td>2015.0</td>\n",
       "      <td>67,000</td>\n",
       "      <td>0</td>\n",
       "      <td>21.14</td>\n",
       "      <td>0</td>\n",
       "      <td>0</td>\n",
       "      <td>1498</td>\n",
       "      <td>5.0</td>\n",
       "      <td>Amravati</td>\n",
       "      <td>4.25</td>\n",
       "    </tr>\n",
       "    <tr>\n",
       "      <th>20002</th>\n",
       "      <td>Mahindra XUV500 W6 2WD</td>\n",
       "      <td>2016.0</td>\n",
       "      <td>38,00,000</td>\n",
       "      <td>0</td>\n",
       "      <td>16.00</td>\n",
       "      <td>0</td>\n",
       "      <td>0</td>\n",
       "      <td>2179</td>\n",
       "      <td>7.0</td>\n",
       "      <td>Amravati</td>\n",
       "      <td>12.25</td>\n",
       "    </tr>\n",
       "    <tr>\n",
       "      <th>20003</th>\n",
       "      <td>Honda City i-VTEC CVT VX</td>\n",
       "      <td>2019.0</td>\n",
       "      <td>13,000</td>\n",
       "      <td>1</td>\n",
       "      <td>18.00</td>\n",
       "      <td>1</td>\n",
       "      <td>0</td>\n",
       "      <td>1497</td>\n",
       "      <td>5.0</td>\n",
       "      <td>Amravati</td>\n",
       "      <td>12</td>\n",
       "    </tr>\n",
       "  </tbody>\n",
       "</table>\n",
       "<p>19852 rows × 11 columns</p>\n",
       "</div>"
      ],
      "text/plain": [
       "                                             CAR_NAME    YEAR  KM_DRIVEN  \\\n",
       "0                                     Maruti Alto Std  2012.0   1,20,000   \n",
       "1                              Hyundai Grand i10 Asta  2016.0     20,000   \n",
       "2                                    Hyundai i20 Asta  2010.0     60,000   \n",
       "3                       Maruti Alto K10 2010-2014 VXI  2012.0     37,000   \n",
       "4      Ford Ecosport 2015-2021 1.5 TDCi Titanium BSIV  2015.0     30,000   \n",
       "...                                               ...     ...        ...   \n",
       "19999                   Toyota Platinum Etios 1.4 GXD  2017.0     69,480   \n",
       "20000                          Maruti Ertiga BSIV VXI  2019.0     18,000   \n",
       "20001                    Skoda Rapid 1.5 TDI Elegance  2015.0     67,000   \n",
       "20002                          Mahindra XUV500 W6 2WD  2016.0  38,00,000   \n",
       "20003                        Honda City i-VTEC CVT VX  2019.0     13,000   \n",
       "\n",
       "       FULE_TYPE  MILAGE  TRANSMISSION_TYPE  SELLER_TYPE ENGINE  SEATS  \\\n",
       "0              1   19.70                  0            1    796    5.0   \n",
       "1              1   18.90                  0            1   1197    5.0   \n",
       "2              1   17.00                  0            1   1197    5.0   \n",
       "3              1   20.92                  0            1    998    5.0   \n",
       "4              0   22.77                  0            0   1498    5.0   \n",
       "...          ...     ...                ...          ...    ...    ...   \n",
       "19999          0   23.59                  0            0   1364    5.0   \n",
       "20000          1   17.50                  0            0   1373    7.0   \n",
       "20001          0   21.14                  0            0   1498    5.0   \n",
       "20002          0   16.00                  0            0   2179    7.0   \n",
       "20003          1   18.00                  1            0   1497    5.0   \n",
       "\n",
       "      Car_Location SELLING_PRICE  \n",
       "0            Delhi           1.2  \n",
       "1            Delhi           5.5  \n",
       "2            Delhi          2.15  \n",
       "3            Delhi          2.26  \n",
       "4            Delhi           5.7  \n",
       "...            ...           ...  \n",
       "19999     Amravati           6.5  \n",
       "20000     Amravati          9.25  \n",
       "20001     Amravati          4.25  \n",
       "20002     Amravati         12.25  \n",
       "20003     Amravati            12  \n",
       "\n",
       "[19852 rows x 11 columns]"
      ]
     },
     "execution_count": 221,
     "metadata": {},
     "output_type": "execute_result"
    }
   ],
   "source": [
    "df_2"
   ]
  },
  {
   "cell_type": "code",
   "execution_count": 222,
   "id": "4bbf2bdb",
   "metadata": {
    "ExecuteTime": {
     "end_time": "2022-04-01T10:43:46.950134Z",
     "start_time": "2022-04-01T10:43:46.938951Z"
    }
   },
   "outputs": [
    {
     "data": {
      "text/plain": [
       "(19852, 11)"
      ]
     },
     "execution_count": 222,
     "metadata": {},
     "output_type": "execute_result"
    }
   ],
   "source": [
    "df_2.shape"
   ]
  },
  {
   "cell_type": "markdown",
   "id": "b2609dc9",
   "metadata": {},
   "source": [
    "# Duplicates"
   ]
  },
  {
   "cell_type": "code",
   "execution_count": 223,
   "id": "4ad54bdf",
   "metadata": {
    "ExecuteTime": {
     "end_time": "2022-04-01T10:43:46.982207Z",
     "start_time": "2022-04-01T10:43:46.953700Z"
    }
   },
   "outputs": [
    {
     "data": {
      "text/plain": [
       "(28, 11)"
      ]
     },
     "execution_count": 223,
     "metadata": {},
     "output_type": "execute_result"
    }
   ],
   "source": [
    "#Count of duplicated rows\n",
    "df_2[df_2.duplicated()].shape"
   ]
  },
  {
   "cell_type": "code",
   "execution_count": 224,
   "id": "65cc343e",
   "metadata": {
    "ExecuteTime": {
     "end_time": "2022-04-01T10:43:47.030219Z",
     "start_time": "2022-04-01T10:43:46.985134Z"
    }
   },
   "outputs": [
    {
     "data": {
      "text/html": [
       "<div>\n",
       "<style scoped>\n",
       "    .dataframe tbody tr th:only-of-type {\n",
       "        vertical-align: middle;\n",
       "    }\n",
       "\n",
       "    .dataframe tbody tr th {\n",
       "        vertical-align: top;\n",
       "    }\n",
       "\n",
       "    .dataframe thead th {\n",
       "        text-align: right;\n",
       "    }\n",
       "</style>\n",
       "<table border=\"1\" class=\"dataframe\">\n",
       "  <thead>\n",
       "    <tr style=\"text-align: right;\">\n",
       "      <th></th>\n",
       "      <th>CAR_NAME</th>\n",
       "      <th>YEAR</th>\n",
       "      <th>KM_DRIVEN</th>\n",
       "      <th>FULE_TYPE</th>\n",
       "      <th>MILAGE</th>\n",
       "      <th>TRANSMISSION_TYPE</th>\n",
       "      <th>SELLER_TYPE</th>\n",
       "      <th>ENGINE</th>\n",
       "      <th>SEATS</th>\n",
       "      <th>Car_Location</th>\n",
       "      <th>SELLING_PRICE</th>\n",
       "    </tr>\n",
       "  </thead>\n",
       "  <tbody>\n",
       "    <tr>\n",
       "      <th>0</th>\n",
       "      <td>Maruti Alto Std</td>\n",
       "      <td>2012.0</td>\n",
       "      <td>1,20,000</td>\n",
       "      <td>1</td>\n",
       "      <td>19.70</td>\n",
       "      <td>0</td>\n",
       "      <td>1</td>\n",
       "      <td>796</td>\n",
       "      <td>5.0</td>\n",
       "      <td>Delhi</td>\n",
       "      <td>1.2</td>\n",
       "    </tr>\n",
       "    <tr>\n",
       "      <th>1</th>\n",
       "      <td>Hyundai Grand i10 Asta</td>\n",
       "      <td>2016.0</td>\n",
       "      <td>20,000</td>\n",
       "      <td>1</td>\n",
       "      <td>18.90</td>\n",
       "      <td>0</td>\n",
       "      <td>1</td>\n",
       "      <td>1197</td>\n",
       "      <td>5.0</td>\n",
       "      <td>Delhi</td>\n",
       "      <td>5.5</td>\n",
       "    </tr>\n",
       "    <tr>\n",
       "      <th>2</th>\n",
       "      <td>Hyundai i20 Asta</td>\n",
       "      <td>2010.0</td>\n",
       "      <td>60,000</td>\n",
       "      <td>1</td>\n",
       "      <td>17.00</td>\n",
       "      <td>0</td>\n",
       "      <td>1</td>\n",
       "      <td>1197</td>\n",
       "      <td>5.0</td>\n",
       "      <td>Delhi</td>\n",
       "      <td>2.15</td>\n",
       "    </tr>\n",
       "    <tr>\n",
       "      <th>3</th>\n",
       "      <td>Maruti Alto K10 2010-2014 VXI</td>\n",
       "      <td>2012.0</td>\n",
       "      <td>37,000</td>\n",
       "      <td>1</td>\n",
       "      <td>20.92</td>\n",
       "      <td>0</td>\n",
       "      <td>1</td>\n",
       "      <td>998</td>\n",
       "      <td>5.0</td>\n",
       "      <td>Delhi</td>\n",
       "      <td>2.26</td>\n",
       "    </tr>\n",
       "    <tr>\n",
       "      <th>4</th>\n",
       "      <td>Ford Ecosport 2015-2021 1.5 TDCi Titanium BSIV</td>\n",
       "      <td>2015.0</td>\n",
       "      <td>30,000</td>\n",
       "      <td>0</td>\n",
       "      <td>22.77</td>\n",
       "      <td>0</td>\n",
       "      <td>0</td>\n",
       "      <td>1498</td>\n",
       "      <td>5.0</td>\n",
       "      <td>Delhi</td>\n",
       "      <td>5.7</td>\n",
       "    </tr>\n",
       "    <tr>\n",
       "      <th>...</th>\n",
       "      <td>...</td>\n",
       "      <td>...</td>\n",
       "      <td>...</td>\n",
       "      <td>...</td>\n",
       "      <td>...</td>\n",
       "      <td>...</td>\n",
       "      <td>...</td>\n",
       "      <td>...</td>\n",
       "      <td>...</td>\n",
       "      <td>...</td>\n",
       "      <td>...</td>\n",
       "    </tr>\n",
       "    <tr>\n",
       "      <th>19999</th>\n",
       "      <td>Toyota Platinum Etios 1.4 GXD</td>\n",
       "      <td>2017.0</td>\n",
       "      <td>69,480</td>\n",
       "      <td>0</td>\n",
       "      <td>23.59</td>\n",
       "      <td>0</td>\n",
       "      <td>0</td>\n",
       "      <td>1364</td>\n",
       "      <td>5.0</td>\n",
       "      <td>Amravati</td>\n",
       "      <td>6.5</td>\n",
       "    </tr>\n",
       "    <tr>\n",
       "      <th>20000</th>\n",
       "      <td>Maruti Ertiga BSIV VXI</td>\n",
       "      <td>2019.0</td>\n",
       "      <td>18,000</td>\n",
       "      <td>1</td>\n",
       "      <td>17.50</td>\n",
       "      <td>0</td>\n",
       "      <td>0</td>\n",
       "      <td>1373</td>\n",
       "      <td>7.0</td>\n",
       "      <td>Amravati</td>\n",
       "      <td>9.25</td>\n",
       "    </tr>\n",
       "    <tr>\n",
       "      <th>20001</th>\n",
       "      <td>Skoda Rapid 1.5 TDI Elegance</td>\n",
       "      <td>2015.0</td>\n",
       "      <td>67,000</td>\n",
       "      <td>0</td>\n",
       "      <td>21.14</td>\n",
       "      <td>0</td>\n",
       "      <td>0</td>\n",
       "      <td>1498</td>\n",
       "      <td>5.0</td>\n",
       "      <td>Amravati</td>\n",
       "      <td>4.25</td>\n",
       "    </tr>\n",
       "    <tr>\n",
       "      <th>20002</th>\n",
       "      <td>Mahindra XUV500 W6 2WD</td>\n",
       "      <td>2016.0</td>\n",
       "      <td>38,00,000</td>\n",
       "      <td>0</td>\n",
       "      <td>16.00</td>\n",
       "      <td>0</td>\n",
       "      <td>0</td>\n",
       "      <td>2179</td>\n",
       "      <td>7.0</td>\n",
       "      <td>Amravati</td>\n",
       "      <td>12.25</td>\n",
       "    </tr>\n",
       "    <tr>\n",
       "      <th>20003</th>\n",
       "      <td>Honda City i-VTEC CVT VX</td>\n",
       "      <td>2019.0</td>\n",
       "      <td>13,000</td>\n",
       "      <td>1</td>\n",
       "      <td>18.00</td>\n",
       "      <td>1</td>\n",
       "      <td>0</td>\n",
       "      <td>1497</td>\n",
       "      <td>5.0</td>\n",
       "      <td>Amravati</td>\n",
       "      <td>12</td>\n",
       "    </tr>\n",
       "  </tbody>\n",
       "</table>\n",
       "<p>19852 rows × 11 columns</p>\n",
       "</div>"
      ],
      "text/plain": [
       "                                             CAR_NAME    YEAR  KM_DRIVEN  \\\n",
       "0                                     Maruti Alto Std  2012.0   1,20,000   \n",
       "1                              Hyundai Grand i10 Asta  2016.0     20,000   \n",
       "2                                    Hyundai i20 Asta  2010.0     60,000   \n",
       "3                       Maruti Alto K10 2010-2014 VXI  2012.0     37,000   \n",
       "4      Ford Ecosport 2015-2021 1.5 TDCi Titanium BSIV  2015.0     30,000   \n",
       "...                                               ...     ...        ...   \n",
       "19999                   Toyota Platinum Etios 1.4 GXD  2017.0     69,480   \n",
       "20000                          Maruti Ertiga BSIV VXI  2019.0     18,000   \n",
       "20001                    Skoda Rapid 1.5 TDI Elegance  2015.0     67,000   \n",
       "20002                          Mahindra XUV500 W6 2WD  2016.0  38,00,000   \n",
       "20003                        Honda City i-VTEC CVT VX  2019.0     13,000   \n",
       "\n",
       "       FULE_TYPE  MILAGE  TRANSMISSION_TYPE  SELLER_TYPE ENGINE  SEATS  \\\n",
       "0              1   19.70                  0            1    796    5.0   \n",
       "1              1   18.90                  0            1   1197    5.0   \n",
       "2              1   17.00                  0            1   1197    5.0   \n",
       "3              1   20.92                  0            1    998    5.0   \n",
       "4              0   22.77                  0            0   1498    5.0   \n",
       "...          ...     ...                ...          ...    ...    ...   \n",
       "19999          0   23.59                  0            0   1364    5.0   \n",
       "20000          1   17.50                  0            0   1373    7.0   \n",
       "20001          0   21.14                  0            0   1498    5.0   \n",
       "20002          0   16.00                  0            0   2179    7.0   \n",
       "20003          1   18.00                  1            0   1497    5.0   \n",
       "\n",
       "      Car_Location SELLING_PRICE  \n",
       "0            Delhi           1.2  \n",
       "1            Delhi           5.5  \n",
       "2            Delhi          2.15  \n",
       "3            Delhi          2.26  \n",
       "4            Delhi           5.7  \n",
       "...            ...           ...  \n",
       "19999     Amravati           6.5  \n",
       "20000     Amravati          9.25  \n",
       "20001     Amravati          4.25  \n",
       "20002     Amravati         12.25  \n",
       "20003     Amravati            12  \n",
       "\n",
       "[19852 rows x 11 columns]"
      ]
     },
     "execution_count": 224,
     "metadata": {},
     "output_type": "execute_result"
    }
   ],
   "source": [
    "df_2"
   ]
  },
  {
   "cell_type": "code",
   "execution_count": 225,
   "id": "494e923d",
   "metadata": {
    "ExecuteTime": {
     "end_time": "2022-04-01T10:43:47.094251Z",
     "start_time": "2022-04-01T10:43:47.034716Z"
    }
   },
   "outputs": [
    {
     "data": {
      "text/html": [
       "<div>\n",
       "<style scoped>\n",
       "    .dataframe tbody tr th:only-of-type {\n",
       "        vertical-align: middle;\n",
       "    }\n",
       "\n",
       "    .dataframe tbody tr th {\n",
       "        vertical-align: top;\n",
       "    }\n",
       "\n",
       "    .dataframe thead th {\n",
       "        text-align: right;\n",
       "    }\n",
       "</style>\n",
       "<table border=\"1\" class=\"dataframe\">\n",
       "  <thead>\n",
       "    <tr style=\"text-align: right;\">\n",
       "      <th></th>\n",
       "      <th>CAR_NAME</th>\n",
       "      <th>YEAR</th>\n",
       "      <th>KM_DRIVEN</th>\n",
       "      <th>FULE_TYPE</th>\n",
       "      <th>MILAGE</th>\n",
       "      <th>TRANSMISSION_TYPE</th>\n",
       "      <th>SELLER_TYPE</th>\n",
       "      <th>ENGINE</th>\n",
       "      <th>SEATS</th>\n",
       "      <th>Car_Location</th>\n",
       "      <th>SELLING_PRICE</th>\n",
       "    </tr>\n",
       "  </thead>\n",
       "  <tbody>\n",
       "    <tr>\n",
       "      <th>271</th>\n",
       "      <td>Mahindra TUV 300 T4</td>\n",
       "      <td>2016.0</td>\n",
       "      <td>70,000</td>\n",
       "      <td>0</td>\n",
       "      <td>18.49</td>\n",
       "      <td>0</td>\n",
       "      <td>1</td>\n",
       "      <td>1493</td>\n",
       "      <td>7.0</td>\n",
       "      <td>Andhra Pradesh</td>\n",
       "      <td>4.5</td>\n",
       "    </tr>\n",
       "    <tr>\n",
       "      <th>277</th>\n",
       "      <td>Hyundai Grand i10 Magna</td>\n",
       "      <td>2015.0</td>\n",
       "      <td>36,000</td>\n",
       "      <td>1</td>\n",
       "      <td>18.90</td>\n",
       "      <td>0</td>\n",
       "      <td>0</td>\n",
       "      <td>1197</td>\n",
       "      <td>5.0</td>\n",
       "      <td>Andhra Pradesh</td>\n",
       "      <td>4</td>\n",
       "    </tr>\n",
       "    <tr>\n",
       "      <th>1951</th>\n",
       "      <td>Hyundai i20 1.2 Asta</td>\n",
       "      <td>2018.0</td>\n",
       "      <td>50,000</td>\n",
       "      <td>1</td>\n",
       "      <td>18.60</td>\n",
       "      <td>0</td>\n",
       "      <td>1</td>\n",
       "      <td>1197</td>\n",
       "      <td>5.0</td>\n",
       "      <td>Telengana</td>\n",
       "      <td>6.25</td>\n",
       "    </tr>\n",
       "    <tr>\n",
       "      <th>2372</th>\n",
       "      <td>Tata Safari Storme EX</td>\n",
       "      <td>2013.0</td>\n",
       "      <td>1,20,000</td>\n",
       "      <td>0</td>\n",
       "      <td>14.00</td>\n",
       "      <td>0</td>\n",
       "      <td>1</td>\n",
       "      <td>2179</td>\n",
       "      <td>7.0</td>\n",
       "      <td>Telengana</td>\n",
       "      <td>6</td>\n",
       "    </tr>\n",
       "    <tr>\n",
       "      <th>7077</th>\n",
       "      <td>Maruti Swift Dzire VDI</td>\n",
       "      <td>2016.0</td>\n",
       "      <td>50,000</td>\n",
       "      <td>0</td>\n",
       "      <td>26.59</td>\n",
       "      <td>0</td>\n",
       "      <td>1</td>\n",
       "      <td>1248</td>\n",
       "      <td>5.0</td>\n",
       "      <td>Mumbai</td>\n",
       "      <td>6</td>\n",
       "    </tr>\n",
       "    <tr>\n",
       "      <th>7401</th>\n",
       "      <td>Chevrolet Beat LT</td>\n",
       "      <td>2010.0</td>\n",
       "      <td>40,000</td>\n",
       "      <td>1</td>\n",
       "      <td>18.60</td>\n",
       "      <td>0</td>\n",
       "      <td>1</td>\n",
       "      <td>1199</td>\n",
       "      <td>5.0</td>\n",
       "      <td>Thane</td>\n",
       "      <td>1.3</td>\n",
       "    </tr>\n",
       "    <tr>\n",
       "      <th>8276</th>\n",
       "      <td>Hyundai i10 Era 1.1</td>\n",
       "      <td>2010.0</td>\n",
       "      <td>75,000</td>\n",
       "      <td>1</td>\n",
       "      <td>19.81</td>\n",
       "      <td>0</td>\n",
       "      <td>0</td>\n",
       "      <td>1086</td>\n",
       "      <td>5.0</td>\n",
       "      <td>Thane</td>\n",
       "      <td>2.7</td>\n",
       "    </tr>\n",
       "    <tr>\n",
       "      <th>8287</th>\n",
       "      <td>Skoda Octavia Elegance 1.9 TDI</td>\n",
       "      <td>2010.0</td>\n",
       "      <td>3,00,000</td>\n",
       "      <td>0</td>\n",
       "      <td>18.70</td>\n",
       "      <td>0</td>\n",
       "      <td>1</td>\n",
       "      <td>1896</td>\n",
       "      <td>5.0</td>\n",
       "      <td>Thane</td>\n",
       "      <td>4</td>\n",
       "    </tr>\n",
       "    <tr>\n",
       "      <th>8452</th>\n",
       "      <td>Maruti Alto K10 VXI</td>\n",
       "      <td>2018.0</td>\n",
       "      <td>30,000</td>\n",
       "      <td>1</td>\n",
       "      <td>23.95</td>\n",
       "      <td>0</td>\n",
       "      <td>1</td>\n",
       "      <td>998</td>\n",
       "      <td>5.0</td>\n",
       "      <td>Thane</td>\n",
       "      <td>3.5</td>\n",
       "    </tr>\n",
       "    <tr>\n",
       "      <th>8456</th>\n",
       "      <td>Mahindra Renault Logan 1.5 Diesel DLSX</td>\n",
       "      <td>2011.0</td>\n",
       "      <td>1,90,000</td>\n",
       "      <td>0</td>\n",
       "      <td>17.00</td>\n",
       "      <td>0</td>\n",
       "      <td>1</td>\n",
       "      <td>1461</td>\n",
       "      <td>5.0</td>\n",
       "      <td>Thane</td>\n",
       "      <td>1.5</td>\n",
       "    </tr>\n",
       "    <tr>\n",
       "      <th>8555</th>\n",
       "      <td>Ford Classic 1.4 Duratorq CLXI</td>\n",
       "      <td>2014.0</td>\n",
       "      <td>53,000</td>\n",
       "      <td>0</td>\n",
       "      <td>19.68</td>\n",
       "      <td>0</td>\n",
       "      <td>0</td>\n",
       "      <td>1399</td>\n",
       "      <td>5.0</td>\n",
       "      <td>Thane</td>\n",
       "      <td>4.75</td>\n",
       "    </tr>\n",
       "    <tr>\n",
       "      <th>8721</th>\n",
       "      <td>Ford Freestyle Titanium Petrol BSIV</td>\n",
       "      <td>2018.0</td>\n",
       "      <td>35,000</td>\n",
       "      <td>1</td>\n",
       "      <td>19.00</td>\n",
       "      <td>0</td>\n",
       "      <td>1</td>\n",
       "      <td>1194</td>\n",
       "      <td>5.0</td>\n",
       "      <td>Thane</td>\n",
       "      <td>6.5</td>\n",
       "    </tr>\n",
       "    <tr>\n",
       "      <th>8857</th>\n",
       "      <td>Ford Figo 1.2 Trend Plus MT</td>\n",
       "      <td>2016.0</td>\n",
       "      <td>40,000</td>\n",
       "      <td>1</td>\n",
       "      <td>18.16</td>\n",
       "      <td>0</td>\n",
       "      <td>1</td>\n",
       "      <td>1196</td>\n",
       "      <td>5.0</td>\n",
       "      <td>Thane</td>\n",
       "      <td>4</td>\n",
       "    </tr>\n",
       "    <tr>\n",
       "      <th>9367</th>\n",
       "      <td>Ford Freestyle Titanium Petrol BSIV</td>\n",
       "      <td>2018.0</td>\n",
       "      <td>30,000</td>\n",
       "      <td>1</td>\n",
       "      <td>19.00</td>\n",
       "      <td>0</td>\n",
       "      <td>1</td>\n",
       "      <td>1194</td>\n",
       "      <td>5.0</td>\n",
       "      <td>Thane</td>\n",
       "      <td>6.3</td>\n",
       "    </tr>\n",
       "    <tr>\n",
       "      <th>9530</th>\n",
       "      <td>Maruti Wagon R VXI</td>\n",
       "      <td>2015.0</td>\n",
       "      <td>90,000</td>\n",
       "      <td>1</td>\n",
       "      <td>20.51</td>\n",
       "      <td>0</td>\n",
       "      <td>1</td>\n",
       "      <td>998</td>\n",
       "      <td>5.0</td>\n",
       "      <td>Thane</td>\n",
       "      <td>3</td>\n",
       "    </tr>\n",
       "    <tr>\n",
       "      <th>10328</th>\n",
       "      <td>Maruti Alto 800 LXI</td>\n",
       "      <td>2017.0</td>\n",
       "      <td>50,000</td>\n",
       "      <td>1</td>\n",
       "      <td>24.70</td>\n",
       "      <td>0</td>\n",
       "      <td>1</td>\n",
       "      <td>796</td>\n",
       "      <td>5.0</td>\n",
       "      <td>Thane</td>\n",
       "      <td>2.8</td>\n",
       "    </tr>\n",
       "    <tr>\n",
       "      <th>10346</th>\n",
       "      <td>Mahindra Scorpio BSIV</td>\n",
       "      <td>2019.0</td>\n",
       "      <td>20,000</td>\n",
       "      <td>0</td>\n",
       "      <td>15.40</td>\n",
       "      <td>0</td>\n",
       "      <td>1</td>\n",
       "      <td>2523</td>\n",
       "      <td>7.0</td>\n",
       "      <td>Thane</td>\n",
       "      <td>9.82</td>\n",
       "    </tr>\n",
       "    <tr>\n",
       "      <th>11736</th>\n",
       "      <td>Tata Safari 2005-2017 DICOR 2.2 EX 4x2</td>\n",
       "      <td>2010.0</td>\n",
       "      <td>1,20,000</td>\n",
       "      <td>0</td>\n",
       "      <td>11.57</td>\n",
       "      <td>0</td>\n",
       "      <td>1</td>\n",
       "      <td>2179</td>\n",
       "      <td>7.0</td>\n",
       "      <td>Bangalore</td>\n",
       "      <td>2</td>\n",
       "    </tr>\n",
       "    <tr>\n",
       "      <th>12571</th>\n",
       "      <td>Hyundai Grand i10 CRDi Magna</td>\n",
       "      <td>2014.0</td>\n",
       "      <td>56,000</td>\n",
       "      <td>0</td>\n",
       "      <td>24.00</td>\n",
       "      <td>0</td>\n",
       "      <td>0</td>\n",
       "      <td>1120</td>\n",
       "      <td>5.0</td>\n",
       "      <td>Pune</td>\n",
       "      <td>3.25</td>\n",
       "    </tr>\n",
       "    <tr>\n",
       "      <th>12733</th>\n",
       "      <td>Hyundai Verna 1.6 CRDi EX MT</td>\n",
       "      <td>2012.0</td>\n",
       "      <td>30,917</td>\n",
       "      <td>0</td>\n",
       "      <td>22.32</td>\n",
       "      <td>0</td>\n",
       "      <td>0</td>\n",
       "      <td>1582</td>\n",
       "      <td>5.0</td>\n",
       "      <td>Pune</td>\n",
       "      <td>4.65</td>\n",
       "    </tr>\n",
       "    <tr>\n",
       "      <th>14228</th>\n",
       "      <td>Toyota Corolla Altis 1.8 VL CVT</td>\n",
       "      <td>2017.0</td>\n",
       "      <td>50,000</td>\n",
       "      <td>1</td>\n",
       "      <td>14.28</td>\n",
       "      <td>1</td>\n",
       "      <td>0</td>\n",
       "      <td>1798</td>\n",
       "      <td>5.0</td>\n",
       "      <td>Chennai</td>\n",
       "      <td>15.25</td>\n",
       "    </tr>\n",
       "    <tr>\n",
       "      <th>14236</th>\n",
       "      <td>Toyota Camry 2.5 G</td>\n",
       "      <td>2014.0</td>\n",
       "      <td>53,000</td>\n",
       "      <td>1</td>\n",
       "      <td>12.98</td>\n",
       "      <td>1</td>\n",
       "      <td>0</td>\n",
       "      <td>2494</td>\n",
       "      <td>5.0</td>\n",
       "      <td>Chennai</td>\n",
       "      <td>10.99</td>\n",
       "    </tr>\n",
       "    <tr>\n",
       "      <th>14315</th>\n",
       "      <td>Ford Endeavour 3.2 Titanium AT 4X4</td>\n",
       "      <td>2018.0</td>\n",
       "      <td>48,000</td>\n",
       "      <td>0</td>\n",
       "      <td>10.91</td>\n",
       "      <td>1</td>\n",
       "      <td>0</td>\n",
       "      <td>3198</td>\n",
       "      <td>7.0</td>\n",
       "      <td>Chennai</td>\n",
       "      <td>28.99</td>\n",
       "    </tr>\n",
       "    <tr>\n",
       "      <th>14737</th>\n",
       "      <td>Mercedes-Benz M-Class ML 250 CDI</td>\n",
       "      <td>2015.0</td>\n",
       "      <td>48,000</td>\n",
       "      <td>0</td>\n",
       "      <td>15.26</td>\n",
       "      <td>1</td>\n",
       "      <td>0</td>\n",
       "      <td>2143</td>\n",
       "      <td>5.0</td>\n",
       "      <td>Chennai</td>\n",
       "      <td>28.99</td>\n",
       "    </tr>\n",
       "    <tr>\n",
       "      <th>15930</th>\n",
       "      <td>Hyundai Grand i10 Sportz</td>\n",
       "      <td>2016.0</td>\n",
       "      <td>19,000</td>\n",
       "      <td>1</td>\n",
       "      <td>18.90</td>\n",
       "      <td>0</td>\n",
       "      <td>0</td>\n",
       "      <td>1197</td>\n",
       "      <td>5.0</td>\n",
       "      <td>Kolkata</td>\n",
       "      <td>5.35</td>\n",
       "    </tr>\n",
       "    <tr>\n",
       "      <th>17080</th>\n",
       "      <td>Maruti Ciaz 1.4 Alpha</td>\n",
       "      <td>2017.0</td>\n",
       "      <td>26,000</td>\n",
       "      <td>1</td>\n",
       "      <td>20.73</td>\n",
       "      <td>0</td>\n",
       "      <td>0</td>\n",
       "      <td>1373</td>\n",
       "      <td>5.0</td>\n",
       "      <td>Hyderabad</td>\n",
       "      <td>7.4</td>\n",
       "    </tr>\n",
       "    <tr>\n",
       "      <th>17647</th>\n",
       "      <td>Volkswagen Polo 1.2 MPI Comfortline</td>\n",
       "      <td>2017.0</td>\n",
       "      <td>55,000</td>\n",
       "      <td>1</td>\n",
       "      <td>16.20</td>\n",
       "      <td>0</td>\n",
       "      <td>0</td>\n",
       "      <td>1199</td>\n",
       "      <td>5.0</td>\n",
       "      <td>Hyderabad</td>\n",
       "      <td>6.75</td>\n",
       "    </tr>\n",
       "    <tr>\n",
       "      <th>17669</th>\n",
       "      <td>Mahindra KUV 100 mFALCON G80 K4 5str</td>\n",
       "      <td>2017.0</td>\n",
       "      <td>35,000</td>\n",
       "      <td>1</td>\n",
       "      <td>18.15</td>\n",
       "      <td>0</td>\n",
       "      <td>1</td>\n",
       "      <td>1198</td>\n",
       "      <td>5.0</td>\n",
       "      <td>Hyderabad</td>\n",
       "      <td>3.5</td>\n",
       "    </tr>\n",
       "  </tbody>\n",
       "</table>\n",
       "</div>"
      ],
      "text/plain": [
       "                                     CAR_NAME    YEAR KM_DRIVEN  FULE_TYPE  \\\n",
       "271                       Mahindra TUV 300 T4  2016.0    70,000          0   \n",
       "277                   Hyundai Grand i10 Magna  2015.0    36,000          1   \n",
       "1951                     Hyundai i20 1.2 Asta  2018.0    50,000          1   \n",
       "2372                    Tata Safari Storme EX  2013.0  1,20,000          0   \n",
       "7077                   Maruti Swift Dzire VDI  2016.0    50,000          0   \n",
       "7401                        Chevrolet Beat LT  2010.0    40,000          1   \n",
       "8276                      Hyundai i10 Era 1.1  2010.0    75,000          1   \n",
       "8287           Skoda Octavia Elegance 1.9 TDI  2010.0  3,00,000          0   \n",
       "8452                      Maruti Alto K10 VXI  2018.0    30,000          1   \n",
       "8456   Mahindra Renault Logan 1.5 Diesel DLSX  2011.0  1,90,000          0   \n",
       "8555           Ford Classic 1.4 Duratorq CLXI  2014.0    53,000          0   \n",
       "8721      Ford Freestyle Titanium Petrol BSIV  2018.0    35,000          1   \n",
       "8857              Ford Figo 1.2 Trend Plus MT  2016.0    40,000          1   \n",
       "9367      Ford Freestyle Titanium Petrol BSIV  2018.0    30,000          1   \n",
       "9530                       Maruti Wagon R VXI  2015.0    90,000          1   \n",
       "10328                     Maruti Alto 800 LXI  2017.0    50,000          1   \n",
       "10346                   Mahindra Scorpio BSIV  2019.0    20,000          0   \n",
       "11736  Tata Safari 2005-2017 DICOR 2.2 EX 4x2  2010.0  1,20,000          0   \n",
       "12571            Hyundai Grand i10 CRDi Magna  2014.0    56,000          0   \n",
       "12733            Hyundai Verna 1.6 CRDi EX MT  2012.0    30,917          0   \n",
       "14228         Toyota Corolla Altis 1.8 VL CVT  2017.0    50,000          1   \n",
       "14236                      Toyota Camry 2.5 G  2014.0    53,000          1   \n",
       "14315      Ford Endeavour 3.2 Titanium AT 4X4  2018.0    48,000          0   \n",
       "14737        Mercedes-Benz M-Class ML 250 CDI  2015.0    48,000          0   \n",
       "15930                Hyundai Grand i10 Sportz  2016.0    19,000          1   \n",
       "17080                   Maruti Ciaz 1.4 Alpha  2017.0    26,000          1   \n",
       "17647     Volkswagen Polo 1.2 MPI Comfortline  2017.0    55,000          1   \n",
       "17669    Mahindra KUV 100 mFALCON G80 K4 5str  2017.0    35,000          1   \n",
       "\n",
       "       MILAGE  TRANSMISSION_TYPE  SELLER_TYPE ENGINE  SEATS    Car_Location  \\\n",
       "271     18.49                  0            1   1493    7.0  Andhra Pradesh   \n",
       "277     18.90                  0            0   1197    5.0  Andhra Pradesh   \n",
       "1951    18.60                  0            1   1197    5.0       Telengana   \n",
       "2372    14.00                  0            1   2179    7.0       Telengana   \n",
       "7077    26.59                  0            1   1248    5.0          Mumbai   \n",
       "7401    18.60                  0            1   1199    5.0           Thane   \n",
       "8276    19.81                  0            0   1086    5.0           Thane   \n",
       "8287    18.70                  0            1   1896    5.0           Thane   \n",
       "8452    23.95                  0            1    998    5.0           Thane   \n",
       "8456    17.00                  0            1   1461    5.0           Thane   \n",
       "8555    19.68                  0            0   1399    5.0           Thane   \n",
       "8721    19.00                  0            1   1194    5.0           Thane   \n",
       "8857    18.16                  0            1   1196    5.0           Thane   \n",
       "9367    19.00                  0            1   1194    5.0           Thane   \n",
       "9530    20.51                  0            1    998    5.0           Thane   \n",
       "10328   24.70                  0            1    796    5.0           Thane   \n",
       "10346   15.40                  0            1   2523    7.0           Thane   \n",
       "11736   11.57                  0            1   2179    7.0       Bangalore   \n",
       "12571   24.00                  0            0   1120    5.0            Pune   \n",
       "12733   22.32                  0            0   1582    5.0            Pune   \n",
       "14228   14.28                  1            0   1798    5.0         Chennai   \n",
       "14236   12.98                  1            0   2494    5.0         Chennai   \n",
       "14315   10.91                  1            0   3198    7.0         Chennai   \n",
       "14737   15.26                  1            0   2143    5.0         Chennai   \n",
       "15930   18.90                  0            0   1197    5.0         Kolkata   \n",
       "17080   20.73                  0            0   1373    5.0       Hyderabad   \n",
       "17647   16.20                  0            0   1199    5.0       Hyderabad   \n",
       "17669   18.15                  0            1   1198    5.0       Hyderabad   \n",
       "\n",
       "      SELLING_PRICE  \n",
       "271             4.5  \n",
       "277               4  \n",
       "1951           6.25  \n",
       "2372              6  \n",
       "7077              6  \n",
       "7401            1.3  \n",
       "8276            2.7  \n",
       "8287              4  \n",
       "8452            3.5  \n",
       "8456            1.5  \n",
       "8555           4.75  \n",
       "8721            6.5  \n",
       "8857              4  \n",
       "9367            6.3  \n",
       "9530              3  \n",
       "10328           2.8  \n",
       "10346          9.82  \n",
       "11736             2  \n",
       "12571          3.25  \n",
       "12733          4.65  \n",
       "14228         15.25  \n",
       "14236         10.99  \n",
       "14315         28.99  \n",
       "14737         28.99  \n",
       "15930          5.35  \n",
       "17080           7.4  \n",
       "17647          6.75  \n",
       "17669           3.5  "
      ]
     },
     "execution_count": 225,
     "metadata": {},
     "output_type": "execute_result"
    }
   ],
   "source": [
    "#Print the duplicated rows\n",
    "df_2[df_2.duplicated()]"
   ]
  },
  {
   "cell_type": "code",
   "execution_count": 226,
   "id": "18f0142b",
   "metadata": {
    "ExecuteTime": {
     "end_time": "2022-04-01T10:43:47.125015Z",
     "start_time": "2022-04-01T10:43:47.097971Z"
    }
   },
   "outputs": [],
   "source": [
    "df_3=df_2.drop_duplicates()"
   ]
  },
  {
   "cell_type": "code",
   "execution_count": 227,
   "id": "0561fb51",
   "metadata": {
    "ExecuteTime": {
     "end_time": "2022-04-01T10:43:47.156093Z",
     "start_time": "2022-04-01T10:43:47.135968Z"
    }
   },
   "outputs": [
    {
     "data": {
      "text/plain": [
       "(19824, 11)"
      ]
     },
     "execution_count": 227,
     "metadata": {},
     "output_type": "execute_result"
    }
   ],
   "source": [
    "df_3.shape"
   ]
  },
  {
   "cell_type": "markdown",
   "id": "c663192b",
   "metadata": {},
   "source": [
    "###  Rename the columns"
   ]
  },
  {
   "cell_type": "code",
   "execution_count": 228,
   "id": "30c09c15",
   "metadata": {
    "ExecuteTime": {
     "end_time": "2022-04-01T10:43:47.188077Z",
     "start_time": "2022-04-01T10:43:47.167556Z"
    }
   },
   "outputs": [],
   "source": [
    "#rename the 'KM_DRIVEN' column\n",
    "df_4 = df_3.rename({'KM_DRIVEN': 'KMS_DRIVEN'}, axis=1)"
   ]
  },
  {
   "cell_type": "code",
   "execution_count": 229,
   "id": "19846d02",
   "metadata": {
    "ExecuteTime": {
     "end_time": "2022-04-01T10:43:47.220103Z",
     "start_time": "2022-04-01T10:43:47.190052Z"
    }
   },
   "outputs": [
    {
     "data": {
      "text/html": [
       "<div>\n",
       "<style scoped>\n",
       "    .dataframe tbody tr th:only-of-type {\n",
       "        vertical-align: middle;\n",
       "    }\n",
       "\n",
       "    .dataframe tbody tr th {\n",
       "        vertical-align: top;\n",
       "    }\n",
       "\n",
       "    .dataframe thead th {\n",
       "        text-align: right;\n",
       "    }\n",
       "</style>\n",
       "<table border=\"1\" class=\"dataframe\">\n",
       "  <thead>\n",
       "    <tr style=\"text-align: right;\">\n",
       "      <th></th>\n",
       "      <th>CAR_NAME</th>\n",
       "      <th>YEAR</th>\n",
       "      <th>KMS_DRIVEN</th>\n",
       "      <th>FULE_TYPE</th>\n",
       "      <th>MILAGE</th>\n",
       "      <th>TRANSMISSION_TYPE</th>\n",
       "      <th>SELLER_TYPE</th>\n",
       "      <th>ENGINE</th>\n",
       "      <th>SEATS</th>\n",
       "      <th>Car_Location</th>\n",
       "      <th>SELLING_PRICE</th>\n",
       "    </tr>\n",
       "  </thead>\n",
       "  <tbody>\n",
       "    <tr>\n",
       "      <th>0</th>\n",
       "      <td>Maruti Alto Std</td>\n",
       "      <td>2012.0</td>\n",
       "      <td>1,20,000</td>\n",
       "      <td>1</td>\n",
       "      <td>19.70</td>\n",
       "      <td>0</td>\n",
       "      <td>1</td>\n",
       "      <td>796</td>\n",
       "      <td>5.0</td>\n",
       "      <td>Delhi</td>\n",
       "      <td>1.2</td>\n",
       "    </tr>\n",
       "    <tr>\n",
       "      <th>1</th>\n",
       "      <td>Hyundai Grand i10 Asta</td>\n",
       "      <td>2016.0</td>\n",
       "      <td>20,000</td>\n",
       "      <td>1</td>\n",
       "      <td>18.90</td>\n",
       "      <td>0</td>\n",
       "      <td>1</td>\n",
       "      <td>1197</td>\n",
       "      <td>5.0</td>\n",
       "      <td>Delhi</td>\n",
       "      <td>5.5</td>\n",
       "    </tr>\n",
       "    <tr>\n",
       "      <th>2</th>\n",
       "      <td>Hyundai i20 Asta</td>\n",
       "      <td>2010.0</td>\n",
       "      <td>60,000</td>\n",
       "      <td>1</td>\n",
       "      <td>17.00</td>\n",
       "      <td>0</td>\n",
       "      <td>1</td>\n",
       "      <td>1197</td>\n",
       "      <td>5.0</td>\n",
       "      <td>Delhi</td>\n",
       "      <td>2.15</td>\n",
       "    </tr>\n",
       "    <tr>\n",
       "      <th>3</th>\n",
       "      <td>Maruti Alto K10 2010-2014 VXI</td>\n",
       "      <td>2012.0</td>\n",
       "      <td>37,000</td>\n",
       "      <td>1</td>\n",
       "      <td>20.92</td>\n",
       "      <td>0</td>\n",
       "      <td>1</td>\n",
       "      <td>998</td>\n",
       "      <td>5.0</td>\n",
       "      <td>Delhi</td>\n",
       "      <td>2.26</td>\n",
       "    </tr>\n",
       "    <tr>\n",
       "      <th>4</th>\n",
       "      <td>Ford Ecosport 2015-2021 1.5 TDCi Titanium BSIV</td>\n",
       "      <td>2015.0</td>\n",
       "      <td>30,000</td>\n",
       "      <td>0</td>\n",
       "      <td>22.77</td>\n",
       "      <td>0</td>\n",
       "      <td>0</td>\n",
       "      <td>1498</td>\n",
       "      <td>5.0</td>\n",
       "      <td>Delhi</td>\n",
       "      <td>5.7</td>\n",
       "    </tr>\n",
       "    <tr>\n",
       "      <th>...</th>\n",
       "      <td>...</td>\n",
       "      <td>...</td>\n",
       "      <td>...</td>\n",
       "      <td>...</td>\n",
       "      <td>...</td>\n",
       "      <td>...</td>\n",
       "      <td>...</td>\n",
       "      <td>...</td>\n",
       "      <td>...</td>\n",
       "      <td>...</td>\n",
       "      <td>...</td>\n",
       "    </tr>\n",
       "    <tr>\n",
       "      <th>19999</th>\n",
       "      <td>Toyota Platinum Etios 1.4 GXD</td>\n",
       "      <td>2017.0</td>\n",
       "      <td>69,480</td>\n",
       "      <td>0</td>\n",
       "      <td>23.59</td>\n",
       "      <td>0</td>\n",
       "      <td>0</td>\n",
       "      <td>1364</td>\n",
       "      <td>5.0</td>\n",
       "      <td>Amravati</td>\n",
       "      <td>6.5</td>\n",
       "    </tr>\n",
       "    <tr>\n",
       "      <th>20000</th>\n",
       "      <td>Maruti Ertiga BSIV VXI</td>\n",
       "      <td>2019.0</td>\n",
       "      <td>18,000</td>\n",
       "      <td>1</td>\n",
       "      <td>17.50</td>\n",
       "      <td>0</td>\n",
       "      <td>0</td>\n",
       "      <td>1373</td>\n",
       "      <td>7.0</td>\n",
       "      <td>Amravati</td>\n",
       "      <td>9.25</td>\n",
       "    </tr>\n",
       "    <tr>\n",
       "      <th>20001</th>\n",
       "      <td>Skoda Rapid 1.5 TDI Elegance</td>\n",
       "      <td>2015.0</td>\n",
       "      <td>67,000</td>\n",
       "      <td>0</td>\n",
       "      <td>21.14</td>\n",
       "      <td>0</td>\n",
       "      <td>0</td>\n",
       "      <td>1498</td>\n",
       "      <td>5.0</td>\n",
       "      <td>Amravati</td>\n",
       "      <td>4.25</td>\n",
       "    </tr>\n",
       "    <tr>\n",
       "      <th>20002</th>\n",
       "      <td>Mahindra XUV500 W6 2WD</td>\n",
       "      <td>2016.0</td>\n",
       "      <td>38,00,000</td>\n",
       "      <td>0</td>\n",
       "      <td>16.00</td>\n",
       "      <td>0</td>\n",
       "      <td>0</td>\n",
       "      <td>2179</td>\n",
       "      <td>7.0</td>\n",
       "      <td>Amravati</td>\n",
       "      <td>12.25</td>\n",
       "    </tr>\n",
       "    <tr>\n",
       "      <th>20003</th>\n",
       "      <td>Honda City i-VTEC CVT VX</td>\n",
       "      <td>2019.0</td>\n",
       "      <td>13,000</td>\n",
       "      <td>1</td>\n",
       "      <td>18.00</td>\n",
       "      <td>1</td>\n",
       "      <td>0</td>\n",
       "      <td>1497</td>\n",
       "      <td>5.0</td>\n",
       "      <td>Amravati</td>\n",
       "      <td>12</td>\n",
       "    </tr>\n",
       "  </tbody>\n",
       "</table>\n",
       "<p>19824 rows × 11 columns</p>\n",
       "</div>"
      ],
      "text/plain": [
       "                                             CAR_NAME    YEAR KMS_DRIVEN  \\\n",
       "0                                     Maruti Alto Std  2012.0   1,20,000   \n",
       "1                              Hyundai Grand i10 Asta  2016.0     20,000   \n",
       "2                                    Hyundai i20 Asta  2010.0     60,000   \n",
       "3                       Maruti Alto K10 2010-2014 VXI  2012.0     37,000   \n",
       "4      Ford Ecosport 2015-2021 1.5 TDCi Titanium BSIV  2015.0     30,000   \n",
       "...                                               ...     ...        ...   \n",
       "19999                   Toyota Platinum Etios 1.4 GXD  2017.0     69,480   \n",
       "20000                          Maruti Ertiga BSIV VXI  2019.0     18,000   \n",
       "20001                    Skoda Rapid 1.5 TDI Elegance  2015.0     67,000   \n",
       "20002                          Mahindra XUV500 W6 2WD  2016.0  38,00,000   \n",
       "20003                        Honda City i-VTEC CVT VX  2019.0     13,000   \n",
       "\n",
       "       FULE_TYPE  MILAGE  TRANSMISSION_TYPE  SELLER_TYPE ENGINE  SEATS  \\\n",
       "0              1   19.70                  0            1    796    5.0   \n",
       "1              1   18.90                  0            1   1197    5.0   \n",
       "2              1   17.00                  0            1   1197    5.0   \n",
       "3              1   20.92                  0            1    998    5.0   \n",
       "4              0   22.77                  0            0   1498    5.0   \n",
       "...          ...     ...                ...          ...    ...    ...   \n",
       "19999          0   23.59                  0            0   1364    5.0   \n",
       "20000          1   17.50                  0            0   1373    7.0   \n",
       "20001          0   21.14                  0            0   1498    5.0   \n",
       "20002          0   16.00                  0            0   2179    7.0   \n",
       "20003          1   18.00                  1            0   1497    5.0   \n",
       "\n",
       "      Car_Location SELLING_PRICE  \n",
       "0            Delhi           1.2  \n",
       "1            Delhi           5.5  \n",
       "2            Delhi          2.15  \n",
       "3            Delhi          2.26  \n",
       "4            Delhi           5.7  \n",
       "...            ...           ...  \n",
       "19999     Amravati           6.5  \n",
       "20000     Amravati          9.25  \n",
       "20001     Amravati          4.25  \n",
       "20002     Amravati         12.25  \n",
       "20003     Amravati            12  \n",
       "\n",
       "[19824 rows x 11 columns]"
      ]
     },
     "execution_count": 229,
     "metadata": {},
     "output_type": "execute_result"
    }
   ],
   "source": [
    "df_4"
   ]
  },
  {
   "cell_type": "code",
   "execution_count": 230,
   "id": "368ec150",
   "metadata": {
    "ExecuteTime": {
     "end_time": "2022-04-01T10:43:47.267773Z",
     "start_time": "2022-04-01T10:43:47.223032Z"
    },
    "scrolled": true
   },
   "outputs": [
    {
     "data": {
      "text/html": [
       "<div>\n",
       "<style scoped>\n",
       "    .dataframe tbody tr th:only-of-type {\n",
       "        vertical-align: middle;\n",
       "    }\n",
       "\n",
       "    .dataframe tbody tr th {\n",
       "        vertical-align: top;\n",
       "    }\n",
       "\n",
       "    .dataframe thead th {\n",
       "        text-align: right;\n",
       "    }\n",
       "</style>\n",
       "<table border=\"1\" class=\"dataframe\">\n",
       "  <thead>\n",
       "    <tr style=\"text-align: right;\">\n",
       "      <th></th>\n",
       "      <th>YEAR</th>\n",
       "      <th>FULE_TYPE</th>\n",
       "      <th>MILAGE</th>\n",
       "      <th>TRANSMISSION_TYPE</th>\n",
       "      <th>SELLER_TYPE</th>\n",
       "      <th>SEATS</th>\n",
       "    </tr>\n",
       "  </thead>\n",
       "  <tbody>\n",
       "    <tr>\n",
       "      <th>count</th>\n",
       "      <td>19824.000000</td>\n",
       "      <td>19824.000000</td>\n",
       "      <td>19824.000000</td>\n",
       "      <td>19824.000000</td>\n",
       "      <td>19824.000000</td>\n",
       "      <td>19824.000000</td>\n",
       "    </tr>\n",
       "    <tr>\n",
       "      <th>mean</th>\n",
       "      <td>2014.549183</td>\n",
       "      <td>0.532234</td>\n",
       "      <td>19.376770</td>\n",
       "      <td>0.197639</td>\n",
       "      <td>0.410008</td>\n",
       "      <td>5.319865</td>\n",
       "    </tr>\n",
       "    <tr>\n",
       "      <th>std</th>\n",
       "      <td>3.231973</td>\n",
       "      <td>0.555337</td>\n",
       "      <td>4.594983</td>\n",
       "      <td>0.398229</td>\n",
       "      <td>0.510963</td>\n",
       "      <td>0.837764</td>\n",
       "    </tr>\n",
       "    <tr>\n",
       "      <th>min</th>\n",
       "      <td>1991.000000</td>\n",
       "      <td>0.000000</td>\n",
       "      <td>0.000000</td>\n",
       "      <td>0.000000</td>\n",
       "      <td>0.000000</td>\n",
       "      <td>2.000000</td>\n",
       "    </tr>\n",
       "    <tr>\n",
       "      <th>25%</th>\n",
       "      <td>2013.000000</td>\n",
       "      <td>0.000000</td>\n",
       "      <td>16.800000</td>\n",
       "      <td>0.000000</td>\n",
       "      <td>0.000000</td>\n",
       "      <td>5.000000</td>\n",
       "    </tr>\n",
       "    <tr>\n",
       "      <th>50%</th>\n",
       "      <td>2015.000000</td>\n",
       "      <td>1.000000</td>\n",
       "      <td>19.270000</td>\n",
       "      <td>0.000000</td>\n",
       "      <td>0.000000</td>\n",
       "      <td>5.000000</td>\n",
       "    </tr>\n",
       "    <tr>\n",
       "      <th>75%</th>\n",
       "      <td>2017.000000</td>\n",
       "      <td>1.000000</td>\n",
       "      <td>22.320000</td>\n",
       "      <td>0.000000</td>\n",
       "      <td>1.000000</td>\n",
       "      <td>5.000000</td>\n",
       "    </tr>\n",
       "    <tr>\n",
       "      <th>max</th>\n",
       "      <td>2021.000000</td>\n",
       "      <td>4.000000</td>\n",
       "      <td>120.000000</td>\n",
       "      <td>1.000000</td>\n",
       "      <td>2.000000</td>\n",
       "      <td>14.000000</td>\n",
       "    </tr>\n",
       "  </tbody>\n",
       "</table>\n",
       "</div>"
      ],
      "text/plain": [
       "               YEAR     FULE_TYPE        MILAGE  TRANSMISSION_TYPE  \\\n",
       "count  19824.000000  19824.000000  19824.000000       19824.000000   \n",
       "mean    2014.549183      0.532234     19.376770           0.197639   \n",
       "std        3.231973      0.555337      4.594983           0.398229   \n",
       "min     1991.000000      0.000000      0.000000           0.000000   \n",
       "25%     2013.000000      0.000000     16.800000           0.000000   \n",
       "50%     2015.000000      1.000000     19.270000           0.000000   \n",
       "75%     2017.000000      1.000000     22.320000           0.000000   \n",
       "max     2021.000000      4.000000    120.000000           1.000000   \n",
       "\n",
       "        SELLER_TYPE         SEATS  \n",
       "count  19824.000000  19824.000000  \n",
       "mean       0.410008      5.319865  \n",
       "std        0.510963      0.837764  \n",
       "min        0.000000      2.000000  \n",
       "25%        0.000000      5.000000  \n",
       "50%        0.000000      5.000000  \n",
       "75%        1.000000      5.000000  \n",
       "max        2.000000     14.000000  "
      ]
     },
     "execution_count": 230,
     "metadata": {},
     "output_type": "execute_result"
    }
   ],
   "source": [
    "#Descriptive stat\n",
    "df_4.describe()"
   ]
  },
  {
   "cell_type": "code",
   "execution_count": 231,
   "id": "30ff38b7",
   "metadata": {
    "ExecuteTime": {
     "end_time": "2022-04-01T10:43:47.470599Z",
     "start_time": "2022-04-01T10:43:47.272028Z"
    }
   },
   "outputs": [
    {
     "data": {
      "text/plain": [
       "<AxesSubplot:>"
      ]
     },
     "execution_count": 231,
     "metadata": {},
     "output_type": "execute_result"
    },
    {
     "data": {
      "image/png": "[encoded data removed]",
      "text/plain": [
       "<Figure size 432x288 with 1 Axes>"
      ]
     },
     "metadata": {
      "needs_background": "light"
     },
     "output_type": "display_data"
    }
   ],
   "source": [
    "#Bar plot\n",
    "df_4['FULE_TYPE'].value_counts().plot.bar()"
   ]
  },
  {
   "cell_type": "code",
   "execution_count": 232,
   "id": "de682a13",
   "metadata": {
    "ExecuteTime": {
     "end_time": "2022-04-01T10:43:47.783719Z",
     "start_time": "2022-04-01T10:43:47.477715Z"
    }
   },
   "outputs": [
    {
     "data": {
      "text/plain": [
       "<AxesSubplot:>"
      ]
     },
     "execution_count": 232,
     "metadata": {},
     "output_type": "execute_result"
    },
    {
     "data": {
      "image/png": "[encoded data removed]",
      "text/plain": [
       "<Figure size 432x288 with 1 Axes>"
      ]
     },
     "metadata": {
      "needs_background": "light"
     },
     "output_type": "display_data"
    }
   ],
   "source": [
    "df_4['Car_Location'].value_counts().plot.bar()"
   ]
  },
  {
   "cell_type": "code",
   "execution_count": 233,
   "id": "20816165",
   "metadata": {
    "ExecuteTime": {
     "end_time": "2022-04-01T10:43:47.940818Z",
     "start_time": "2022-04-01T10:43:47.787032Z"
    }
   },
   "outputs": [
    {
     "data": {
      "text/plain": [
       "<AxesSubplot:>"
      ]
     },
     "execution_count": 233,
     "metadata": {},
     "output_type": "execute_result"
    },
    {
     "data": {
      "image/png": "[encoded data removed]",
      "text/plain": [
       "<Figure size 432x288 with 1 Axes>"
      ]
     },
     "metadata": {
      "needs_background": "light"
     },
     "output_type": "display_data"
    }
   ],
   "source": [
    "df_4['SELLER_TYPE'].value_counts().plot.bar()"
   ]
  },
  {
   "cell_type": "markdown",
   "id": "6b076e48",
   "metadata": {},
   "source": [
    "# Scatter plot and Correlation analysis"
   ]
  },
  {
   "cell_type": "code",
   "execution_count": 234,
   "id": "3d7ac742",
   "metadata": {
    "ExecuteTime": {
     "end_time": "2022-04-01T10:43:56.628097Z",
     "start_time": "2022-04-01T10:43:47.943915Z"
    }
   },
   "outputs": [
    {
     "data": {
      "text/plain": [
       "<seaborn.axisgrid.PairGrid at 0x2d60a1c3e50>"
      ]
     },
     "execution_count": 234,
     "metadata": {},
     "output_type": "execute_result"
    },
    {
     "data": {
      "image/png": "[encoded data removed]",
      "text/plain": [
       "<Figure size 1080x1080 with 42 Axes>"
      ]
     },
     "metadata": {
      "needs_background": "light"
     },
     "output_type": "display_data"
    }
   ],
   "source": [
    "# Seaborn visualization library\n",
    "import seaborn as sns\n",
    "# Create the default pairplot\n",
    "sns.pairplot(df_4)"
   ]
  },
  {
   "cell_type": "code",
   "execution_count": 235,
   "id": "d1754e12",
   "metadata": {
    "ExecuteTime": {
     "end_time": "2022-04-01T10:43:56.659011Z",
     "start_time": "2022-04-01T10:43:56.632093Z"
    }
   },
   "outputs": [
    {
     "data": {
      "text/html": [
       "<div>\n",
       "<style scoped>\n",
       "    .dataframe tbody tr th:only-of-type {\n",
       "        vertical-align: middle;\n",
       "    }\n",
       "\n",
       "    .dataframe tbody tr th {\n",
       "        vertical-align: top;\n",
       "    }\n",
       "\n",
       "    .dataframe thead th {\n",
       "        text-align: right;\n",
       "    }\n",
       "</style>\n",
       "<table border=\"1\" class=\"dataframe\">\n",
       "  <thead>\n",
       "    <tr style=\"text-align: right;\">\n",
       "      <th></th>\n",
       "      <th>YEAR</th>\n",
       "      <th>FULE_TYPE</th>\n",
       "      <th>MILAGE</th>\n",
       "      <th>TRANSMISSION_TYPE</th>\n",
       "      <th>SELLER_TYPE</th>\n",
       "      <th>SEATS</th>\n",
       "    </tr>\n",
       "  </thead>\n",
       "  <tbody>\n",
       "    <tr>\n",
       "      <th>YEAR</th>\n",
       "      <td>1.000000</td>\n",
       "      <td>-0.029608</td>\n",
       "      <td>0.284410</td>\n",
       "      <td>0.111326</td>\n",
       "      <td>0.004315</td>\n",
       "      <td>-0.000957</td>\n",
       "    </tr>\n",
       "    <tr>\n",
       "      <th>FULE_TYPE</th>\n",
       "      <td>-0.029608</td>\n",
       "      <td>1.000000</td>\n",
       "      <td>-0.050126</td>\n",
       "      <td>-0.047741</td>\n",
       "      <td>0.015646</td>\n",
       "      <td>-0.286354</td>\n",
       "    </tr>\n",
       "    <tr>\n",
       "      <th>MILAGE</th>\n",
       "      <td>0.284410</td>\n",
       "      <td>-0.050126</td>\n",
       "      <td>1.000000</td>\n",
       "      <td>-0.251238</td>\n",
       "      <td>0.067875</td>\n",
       "      <td>-0.345155</td>\n",
       "    </tr>\n",
       "    <tr>\n",
       "      <th>TRANSMISSION_TYPE</th>\n",
       "      <td>0.111326</td>\n",
       "      <td>-0.047741</td>\n",
       "      <td>-0.251238</td>\n",
       "      <td>1.000000</td>\n",
       "      <td>-0.213312</td>\n",
       "      <td>-0.063996</td>\n",
       "    </tr>\n",
       "    <tr>\n",
       "      <th>SELLER_TYPE</th>\n",
       "      <td>0.004315</td>\n",
       "      <td>0.015646</td>\n",
       "      <td>0.067875</td>\n",
       "      <td>-0.213312</td>\n",
       "      <td>1.000000</td>\n",
       "      <td>0.052223</td>\n",
       "    </tr>\n",
       "    <tr>\n",
       "      <th>SEATS</th>\n",
       "      <td>-0.000957</td>\n",
       "      <td>-0.286354</td>\n",
       "      <td>-0.345155</td>\n",
       "      <td>-0.063996</td>\n",
       "      <td>0.052223</td>\n",
       "      <td>1.000000</td>\n",
       "    </tr>\n",
       "  </tbody>\n",
       "</table>\n",
       "</div>"
      ],
      "text/plain": [
       "                       YEAR  FULE_TYPE    MILAGE  TRANSMISSION_TYPE  \\\n",
       "YEAR               1.000000  -0.029608  0.284410           0.111326   \n",
       "FULE_TYPE         -0.029608   1.000000 -0.050126          -0.047741   \n",
       "MILAGE             0.284410  -0.050126  1.000000          -0.251238   \n",
       "TRANSMISSION_TYPE  0.111326  -0.047741 -0.251238           1.000000   \n",
       "SELLER_TYPE        0.004315   0.015646  0.067875          -0.213312   \n",
       "SEATS             -0.000957  -0.286354 -0.345155          -0.063996   \n",
       "\n",
       "                   SELLER_TYPE     SEATS  \n",
       "YEAR                  0.004315 -0.000957  \n",
       "FULE_TYPE             0.015646 -0.286354  \n",
       "MILAGE                0.067875 -0.345155  \n",
       "TRANSMISSION_TYPE    -0.213312 -0.063996  \n",
       "SELLER_TYPE           1.000000  0.052223  \n",
       "SEATS                 0.052223  1.000000  "
      ]
     },
     "execution_count": 235,
     "metadata": {},
     "output_type": "execute_result"
    }
   ],
   "source": [
    "#Correlation\n",
    "df_4.corr()"
   ]
  },
  {
   "cell_type": "markdown",
   "id": "50109b82",
   "metadata": {},
   "source": [
    "# Conversion of dtypes"
   ]
  },
  {
   "cell_type": "code",
   "execution_count": 236,
   "id": "e0e1b1fd",
   "metadata": {
    "ExecuteTime": {
     "end_time": "2022-04-01T10:43:56.705999Z",
     "start_time": "2022-04-01T10:43:56.663003Z"
    }
   },
   "outputs": [
    {
     "name": "stdout",
     "output_type": "stream",
     "text": [
      "<class 'pandas.core.frame.DataFrame'>\n",
      "Int64Index: 19824 entries, 0 to 20003\n",
      "Data columns (total 11 columns):\n",
      " #   Column             Non-Null Count  Dtype  \n",
      "---  ------             --------------  -----  \n",
      " 0   CAR_NAME           19824 non-null  object \n",
      " 1   YEAR               19824 non-null  float64\n",
      " 2   KMS_DRIVEN         19824 non-null  object \n",
      " 3   FULE_TYPE          19824 non-null  int64  \n",
      " 4   MILAGE             19824 non-null  float64\n",
      " 5   TRANSMISSION_TYPE  19824 non-null  int64  \n",
      " 6   SELLER_TYPE        19824 non-null  int64  \n",
      " 7   ENGINE             19824 non-null  object \n",
      " 8   SEATS              19824 non-null  float64\n",
      " 9   Car_Location       19824 non-null  object \n",
      " 10  SELLING_PRICE      19824 non-null  object \n",
      "dtypes: float64(3), int64(3), object(5)\n",
      "memory usage: 2.3+ MB\n"
     ]
    }
   ],
   "source": [
    "df_4.info()"
   ]
  },
  {
   "cell_type": "code",
   "execution_count": 237,
   "id": "87e218af",
   "metadata": {
    "ExecuteTime": {
     "end_time": "2022-04-01T10:43:56.753384Z",
     "start_time": "2022-04-01T10:43:56.709102Z"
    }
   },
   "outputs": [
    {
     "data": {
      "text/html": [
       "<div>\n",
       "<style scoped>\n",
       "    .dataframe tbody tr th:only-of-type {\n",
       "        vertical-align: middle;\n",
       "    }\n",
       "\n",
       "    .dataframe tbody tr th {\n",
       "        vertical-align: top;\n",
       "    }\n",
       "\n",
       "    .dataframe thead th {\n",
       "        text-align: right;\n",
       "    }\n",
       "</style>\n",
       "<table border=\"1\" class=\"dataframe\">\n",
       "  <thead>\n",
       "    <tr style=\"text-align: right;\">\n",
       "      <th></th>\n",
       "      <th>CAR_NAME</th>\n",
       "      <th>YEAR</th>\n",
       "      <th>KMS_DRIVEN</th>\n",
       "      <th>FULE_TYPE</th>\n",
       "      <th>MILAGE</th>\n",
       "      <th>TRANSMISSION_TYPE</th>\n",
       "      <th>SELLER_TYPE</th>\n",
       "      <th>ENGINE</th>\n",
       "      <th>SEATS</th>\n",
       "      <th>Car_Location</th>\n",
       "      <th>SELLING_PRICE</th>\n",
       "    </tr>\n",
       "  </thead>\n",
       "  <tbody>\n",
       "    <tr>\n",
       "      <th>0</th>\n",
       "      <td>Maruti Alto Std</td>\n",
       "      <td>2012.0</td>\n",
       "      <td>1,20,000</td>\n",
       "      <td>1</td>\n",
       "      <td>19.70</td>\n",
       "      <td>0</td>\n",
       "      <td>1</td>\n",
       "      <td>796</td>\n",
       "      <td>5.0</td>\n",
       "      <td>Delhi</td>\n",
       "      <td>1.2</td>\n",
       "    </tr>\n",
       "    <tr>\n",
       "      <th>1</th>\n",
       "      <td>Hyundai Grand i10 Asta</td>\n",
       "      <td>2016.0</td>\n",
       "      <td>20,000</td>\n",
       "      <td>1</td>\n",
       "      <td>18.90</td>\n",
       "      <td>0</td>\n",
       "      <td>1</td>\n",
       "      <td>1197</td>\n",
       "      <td>5.0</td>\n",
       "      <td>Delhi</td>\n",
       "      <td>5.5</td>\n",
       "    </tr>\n",
       "    <tr>\n",
       "      <th>2</th>\n",
       "      <td>Hyundai i20 Asta</td>\n",
       "      <td>2010.0</td>\n",
       "      <td>60,000</td>\n",
       "      <td>1</td>\n",
       "      <td>17.00</td>\n",
       "      <td>0</td>\n",
       "      <td>1</td>\n",
       "      <td>1197</td>\n",
       "      <td>5.0</td>\n",
       "      <td>Delhi</td>\n",
       "      <td>2.15</td>\n",
       "    </tr>\n",
       "    <tr>\n",
       "      <th>3</th>\n",
       "      <td>Maruti Alto K10 2010-2014 VXI</td>\n",
       "      <td>2012.0</td>\n",
       "      <td>37,000</td>\n",
       "      <td>1</td>\n",
       "      <td>20.92</td>\n",
       "      <td>0</td>\n",
       "      <td>1</td>\n",
       "      <td>998</td>\n",
       "      <td>5.0</td>\n",
       "      <td>Delhi</td>\n",
       "      <td>2.26</td>\n",
       "    </tr>\n",
       "    <tr>\n",
       "      <th>4</th>\n",
       "      <td>Ford Ecosport 2015-2021 1.5 TDCi Titanium BSIV</td>\n",
       "      <td>2015.0</td>\n",
       "      <td>30,000</td>\n",
       "      <td>0</td>\n",
       "      <td>22.77</td>\n",
       "      <td>0</td>\n",
       "      <td>0</td>\n",
       "      <td>1498</td>\n",
       "      <td>5.0</td>\n",
       "      <td>Delhi</td>\n",
       "      <td>5.7</td>\n",
       "    </tr>\n",
       "    <tr>\n",
       "      <th>...</th>\n",
       "      <td>...</td>\n",
       "      <td>...</td>\n",
       "      <td>...</td>\n",
       "      <td>...</td>\n",
       "      <td>...</td>\n",
       "      <td>...</td>\n",
       "      <td>...</td>\n",
       "      <td>...</td>\n",
       "      <td>...</td>\n",
       "      <td>...</td>\n",
       "      <td>...</td>\n",
       "    </tr>\n",
       "    <tr>\n",
       "      <th>19999</th>\n",
       "      <td>Toyota Platinum Etios 1.4 GXD</td>\n",
       "      <td>2017.0</td>\n",
       "      <td>69,480</td>\n",
       "      <td>0</td>\n",
       "      <td>23.59</td>\n",
       "      <td>0</td>\n",
       "      <td>0</td>\n",
       "      <td>1364</td>\n",
       "      <td>5.0</td>\n",
       "      <td>Amravati</td>\n",
       "      <td>6.5</td>\n",
       "    </tr>\n",
       "    <tr>\n",
       "      <th>20000</th>\n",
       "      <td>Maruti Ertiga BSIV VXI</td>\n",
       "      <td>2019.0</td>\n",
       "      <td>18,000</td>\n",
       "      <td>1</td>\n",
       "      <td>17.50</td>\n",
       "      <td>0</td>\n",
       "      <td>0</td>\n",
       "      <td>1373</td>\n",
       "      <td>7.0</td>\n",
       "      <td>Amravati</td>\n",
       "      <td>9.25</td>\n",
       "    </tr>\n",
       "    <tr>\n",
       "      <th>20001</th>\n",
       "      <td>Skoda Rapid 1.5 TDI Elegance</td>\n",
       "      <td>2015.0</td>\n",
       "      <td>67,000</td>\n",
       "      <td>0</td>\n",
       "      <td>21.14</td>\n",
       "      <td>0</td>\n",
       "      <td>0</td>\n",
       "      <td>1498</td>\n",
       "      <td>5.0</td>\n",
       "      <td>Amravati</td>\n",
       "      <td>4.25</td>\n",
       "    </tr>\n",
       "    <tr>\n",
       "      <th>20002</th>\n",
       "      <td>Mahindra XUV500 W6 2WD</td>\n",
       "      <td>2016.0</td>\n",
       "      <td>38,00,000</td>\n",
       "      <td>0</td>\n",
       "      <td>16.00</td>\n",
       "      <td>0</td>\n",
       "      <td>0</td>\n",
       "      <td>2179</td>\n",
       "      <td>7.0</td>\n",
       "      <td>Amravati</td>\n",
       "      <td>12.25</td>\n",
       "    </tr>\n",
       "    <tr>\n",
       "      <th>20003</th>\n",
       "      <td>Honda City i-VTEC CVT VX</td>\n",
       "      <td>2019.0</td>\n",
       "      <td>13,000</td>\n",
       "      <td>1</td>\n",
       "      <td>18.00</td>\n",
       "      <td>1</td>\n",
       "      <td>0</td>\n",
       "      <td>1497</td>\n",
       "      <td>5.0</td>\n",
       "      <td>Amravati</td>\n",
       "      <td>12</td>\n",
       "    </tr>\n",
       "  </tbody>\n",
       "</table>\n",
       "<p>19824 rows × 11 columns</p>\n",
       "</div>"
      ],
      "text/plain": [
       "                                             CAR_NAME    YEAR KMS_DRIVEN  \\\n",
       "0                                     Maruti Alto Std  2012.0   1,20,000   \n",
       "1                              Hyundai Grand i10 Asta  2016.0     20,000   \n",
       "2                                    Hyundai i20 Asta  2010.0     60,000   \n",
       "3                       Maruti Alto K10 2010-2014 VXI  2012.0     37,000   \n",
       "4      Ford Ecosport 2015-2021 1.5 TDCi Titanium BSIV  2015.0     30,000   \n",
       "...                                               ...     ...        ...   \n",
       "19999                   Toyota Platinum Etios 1.4 GXD  2017.0     69,480   \n",
       "20000                          Maruti Ertiga BSIV VXI  2019.0     18,000   \n",
       "20001                    Skoda Rapid 1.5 TDI Elegance  2015.0     67,000   \n",
       "20002                          Mahindra XUV500 W6 2WD  2016.0  38,00,000   \n",
       "20003                        Honda City i-VTEC CVT VX  2019.0     13,000   \n",
       "\n",
       "       FULE_TYPE  MILAGE  TRANSMISSION_TYPE  SELLER_TYPE ENGINE  SEATS  \\\n",
       "0              1   19.70                  0            1    796    5.0   \n",
       "1              1   18.90                  0            1   1197    5.0   \n",
       "2              1   17.00                  0            1   1197    5.0   \n",
       "3              1   20.92                  0            1    998    5.0   \n",
       "4              0   22.77                  0            0   1498    5.0   \n",
       "...          ...     ...                ...          ...    ...    ...   \n",
       "19999          0   23.59                  0            0   1364    5.0   \n",
       "20000          1   17.50                  0            0   1373    7.0   \n",
       "20001          0   21.14                  0            0   1498    5.0   \n",
       "20002          0   16.00                  0            0   2179    7.0   \n",
       "20003          1   18.00                  1            0   1497    5.0   \n",
       "\n",
       "      Car_Location SELLING_PRICE  \n",
       "0            Delhi           1.2  \n",
       "1            Delhi           5.5  \n",
       "2            Delhi          2.15  \n",
       "3            Delhi          2.26  \n",
       "4            Delhi           5.7  \n",
       "...            ...           ...  \n",
       "19999     Amravati           6.5  \n",
       "20000     Amravati          9.25  \n",
       "20001     Amravati          4.25  \n",
       "20002     Amravati         12.25  \n",
       "20003     Amravati            12  \n",
       "\n",
       "[19824 rows x 11 columns]"
      ]
     },
     "execution_count": 237,
     "metadata": {},
     "output_type": "execute_result"
    }
   ],
   "source": [
    "#The method .copy() is used here so that any changes made in new DataFrame don't get reflected in the original one\n",
    "data =df_4.copy()\n",
    "data"
   ]
  },
  {
   "cell_type": "code",
   "execution_count": 238,
   "id": "48113969",
   "metadata": {
    "ExecuteTime": {
     "end_time": "2022-04-01T10:43:56.768916Z",
     "start_time": "2022-04-01T10:43:56.756937Z"
    }
   },
   "outputs": [],
   "source": [
    "def clean_kms(x):\n",
    "    \"\"\" If the value is a string, then remove * symbol and delimiters\n",
    "    otherwise, the value is numeric and can be converted\n",
    "    \"\"\"\n",
    "    if isinstance(x, str):\n",
    "        return(x.replace('*', '').replace(',', ''))\n",
    "    return(x)"
   ]
  },
  {
   "cell_type": "code",
   "execution_count": 239,
   "id": "45a8cdfa",
   "metadata": {
    "ExecuteTime": {
     "end_time": "2022-04-01T10:43:56.799988Z",
     "start_time": "2022-04-01T10:43:56.772910Z"
    }
   },
   "outputs": [],
   "source": [
    "data['KMS_DRIVEN'] = data['KMS_DRIVEN'].apply(clean_kms).astype('float')\n"
   ]
  },
  {
   "cell_type": "code",
   "execution_count": 240,
   "id": "453d60de",
   "metadata": {
    "ExecuteTime": {
     "end_time": "2022-04-01T10:43:56.847906Z",
     "start_time": "2022-04-01T10:43:56.803204Z"
    }
   },
   "outputs": [
    {
     "name": "stdout",
     "output_type": "stream",
     "text": [
      "<class 'pandas.core.frame.DataFrame'>\n",
      "Int64Index: 19824 entries, 0 to 20003\n",
      "Data columns (total 11 columns):\n",
      " #   Column             Non-Null Count  Dtype  \n",
      "---  ------             --------------  -----  \n",
      " 0   CAR_NAME           19824 non-null  object \n",
      " 1   YEAR               19824 non-null  float64\n",
      " 2   KMS_DRIVEN         19824 non-null  float64\n",
      " 3   FULE_TYPE          19824 non-null  int64  \n",
      " 4   MILAGE             19824 non-null  float64\n",
      " 5   TRANSMISSION_TYPE  19824 non-null  int64  \n",
      " 6   SELLER_TYPE        19824 non-null  int64  \n",
      " 7   ENGINE             19824 non-null  object \n",
      " 8   SEATS              19824 non-null  float64\n",
      " 9   Car_Location       19824 non-null  object \n",
      " 10  SELLING_PRICE      19824 non-null  object \n",
      "dtypes: float64(4), int64(3), object(4)\n",
      "memory usage: 2.3+ MB\n"
     ]
    }
   ],
   "source": [
    "data.info()"
   ]
  },
  {
   "cell_type": "code",
   "execution_count": 241,
   "id": "d23cb19d",
   "metadata": {
    "ExecuteTime": {
     "end_time": "2022-04-01T10:43:56.894459Z",
     "start_time": "2022-04-01T10:43:56.851937Z"
    }
   },
   "outputs": [],
   "source": [
    "#conversion of datatype\n",
    "data['SELLING_PRICE']=pd.to_numeric(data['SELLING_PRICE'],errors='coerce')# coerce will introduce NA values for non numeric data \n",
    "data['ENGINE']=pd.to_numeric(data['ENGINE'],errors='coerce')"
   ]
  },
  {
   "cell_type": "code",
   "execution_count": 242,
   "id": "348755a5",
   "metadata": {
    "ExecuteTime": {
     "end_time": "2022-04-01T10:43:56.941185Z",
     "start_time": "2022-04-01T10:43:56.898931Z"
    }
   },
   "outputs": [
    {
     "name": "stdout",
     "output_type": "stream",
     "text": [
      "<class 'pandas.core.frame.DataFrame'>\n",
      "Int64Index: 19824 entries, 0 to 20003\n",
      "Data columns (total 11 columns):\n",
      " #   Column             Non-Null Count  Dtype  \n",
      "---  ------             --------------  -----  \n",
      " 0   CAR_NAME           19824 non-null  object \n",
      " 1   YEAR               19824 non-null  float64\n",
      " 2   KMS_DRIVEN         19824 non-null  float64\n",
      " 3   FULE_TYPE          19824 non-null  int64  \n",
      " 4   MILAGE             19824 non-null  float64\n",
      " 5   TRANSMISSION_TYPE  19824 non-null  int64  \n",
      " 6   SELLER_TYPE        19824 non-null  int64  \n",
      " 7   ENGINE             19822 non-null  float64\n",
      " 8   SEATS              19824 non-null  float64\n",
      " 9   Car_Location       19824 non-null  object \n",
      " 10  SELLING_PRICE      19561 non-null  float64\n",
      "dtypes: float64(6), int64(3), object(2)\n",
      "memory usage: 2.3+ MB\n"
     ]
    }
   ],
   "source": [
    "data.info()"
   ]
  },
  {
   "cell_type": "code",
   "execution_count": 243,
   "id": "9cd27cbc",
   "metadata": {
    "ExecuteTime": {
     "end_time": "2022-04-01T10:43:57.741574Z",
     "start_time": "2022-04-01T10:43:56.946452Z"
    }
   },
   "outputs": [
    {
     "data": {
      "text/plain": [
       "Text(0.5, 1.0, 'Boxplot')"
      ]
     },
     "execution_count": 243,
     "metadata": {},
     "output_type": "execute_result"
    },
    {
     "data": {
      "image/png": "[encoded data removed]",
      "text/plain": [
       "<Figure size 864x576 with 2 Axes>"
      ]
     },
     "metadata": {
      "needs_background": "light"
     },
     "output_type": "display_data"
    }
   ],
   "source": [
    "plt.figure(figsize=(12,8))\n",
    "plt.subplot(1,2,1)\n",
    "sns.histplot(x='SELLING_PRICE',data=data)\n",
    "plt.title('Hisplot')\n",
    "\n",
    "plt.subplot(1,2,2)\n",
    "sns.boxplot(x='SELLING_PRICE',data=data)\n",
    "plt.title('Boxplot')"
   ]
  },
  {
   "cell_type": "markdown",
   "id": "8b86da53",
   "metadata": {},
   "source": [
    "From the above to plots we can say that most of the cars lie between 0 to 50 Lakhs and we have some costly cars which are more than 1 crore"
   ]
  },
  {
   "cell_type": "markdown",
   "id": "f6b8fbf6",
   "metadata": {},
   "source": [
    "### Outlier Detection"
   ]
  },
  {
   "cell_type": "code",
   "execution_count": 244,
   "id": "4848cfdf",
   "metadata": {
    "ExecuteTime": {
     "end_time": "2022-04-01T10:43:57.771865Z",
     "start_time": "2022-04-01T10:43:57.745510Z"
    }
   },
   "outputs": [],
   "source": [
    "#We are removing the rows with car price greater than 120 lakhs as they can be treated as outliers and\n",
    "data=data[data['SELLING_PRICE']<120]"
   ]
  },
  {
   "cell_type": "code",
   "execution_count": 245,
   "id": "fcf52a7d",
   "metadata": {
    "ExecuteTime": {
     "end_time": "2022-04-01T10:43:57.787882Z",
     "start_time": "2022-04-01T10:43:57.775006Z"
    }
   },
   "outputs": [
    {
     "data": {
      "text/plain": [
       "(19561, 11)"
      ]
     },
     "execution_count": 245,
     "metadata": {},
     "output_type": "execute_result"
    }
   ],
   "source": [
    "data.shape"
   ]
  },
  {
   "cell_type": "code",
   "execution_count": 246,
   "id": "6e099055",
   "metadata": {
    "ExecuteTime": {
     "end_time": "2022-04-01T10:43:57.835868Z",
     "start_time": "2022-04-01T10:43:57.791307Z"
    }
   },
   "outputs": [
    {
     "name": "stdout",
     "output_type": "stream",
     "text": [
      "<class 'pandas.core.frame.DataFrame'>\n",
      "Int64Index: 19561 entries, 0 to 20003\n",
      "Data columns (total 11 columns):\n",
      " #   Column             Non-Null Count  Dtype  \n",
      "---  ------             --------------  -----  \n",
      " 0   CAR_NAME           19561 non-null  object \n",
      " 1   YEAR               19561 non-null  float64\n",
      " 2   KMS_DRIVEN         19561 non-null  float64\n",
      " 3   FULE_TYPE          19561 non-null  int64  \n",
      " 4   MILAGE             19561 non-null  float64\n",
      " 5   TRANSMISSION_TYPE  19561 non-null  int64  \n",
      " 6   SELLER_TYPE        19561 non-null  int64  \n",
      " 7   ENGINE             19559 non-null  float64\n",
      " 8   SEATS              19561 non-null  float64\n",
      " 9   Car_Location       19561 non-null  object \n",
      " 10  SELLING_PRICE      19561 non-null  float64\n",
      "dtypes: float64(6), int64(3), object(2)\n",
      "memory usage: 1.8+ MB\n"
     ]
    }
   ],
   "source": [
    "data.info()"
   ]
  },
  {
   "cell_type": "code",
   "execution_count": 247,
   "id": "660590da",
   "metadata": {
    "ExecuteTime": {
     "end_time": "2022-04-01T10:43:57.866026Z",
     "start_time": "2022-04-01T10:43:57.838881Z"
    }
   },
   "outputs": [
    {
     "data": {
      "text/plain": [
       "CAR_NAME             0\n",
       "YEAR                 0\n",
       "KMS_DRIVEN           0\n",
       "FULE_TYPE            0\n",
       "MILAGE               0\n",
       "TRANSMISSION_TYPE    0\n",
       "SELLER_TYPE          0\n",
       "ENGINE               2\n",
       "SEATS                0\n",
       "Car_Location         0\n",
       "SELLING_PRICE        0\n",
       "dtype: int64"
      ]
     },
     "execution_count": 247,
     "metadata": {},
     "output_type": "execute_result"
    }
   ],
   "source": [
    "data.isnull().sum()"
   ]
  },
  {
   "cell_type": "code",
   "execution_count": 248,
   "id": "610b1838",
   "metadata": {
    "ExecuteTime": {
     "end_time": "2022-04-01T10:43:57.897117Z",
     "start_time": "2022-04-01T10:43:57.869931Z"
    }
   },
   "outputs": [],
   "source": [
    "data2 = data.dropna(subset=['ENGINE'])"
   ]
  },
  {
   "cell_type": "code",
   "execution_count": 249,
   "id": "1c54829d",
   "metadata": {
    "ExecuteTime": {
     "end_time": "2022-04-01T10:43:57.927932Z",
     "start_time": "2022-04-01T10:43:57.900932Z"
    }
   },
   "outputs": [
    {
     "data": {
      "text/plain": [
       "CAR_NAME             0\n",
       "YEAR                 0\n",
       "KMS_DRIVEN           0\n",
       "FULE_TYPE            0\n",
       "MILAGE               0\n",
       "TRANSMISSION_TYPE    0\n",
       "SELLER_TYPE          0\n",
       "ENGINE               0\n",
       "SEATS                0\n",
       "Car_Location         0\n",
       "SELLING_PRICE        0\n",
       "dtype: int64"
      ]
     },
     "execution_count": 249,
     "metadata": {},
     "output_type": "execute_result"
    }
   ],
   "source": [
    "data2.isnull().sum()"
   ]
  },
  {
   "cell_type": "code",
   "execution_count": 250,
   "id": "b86e384c",
   "metadata": {
    "ExecuteTime": {
     "end_time": "2022-04-01T10:43:57.943131Z",
     "start_time": "2022-04-01T10:43:57.931368Z"
    }
   },
   "outputs": [],
   "source": [
    "data2 = data2.drop(['CAR_NAME','Car_Location'],axis=1)# removing categorical features"
   ]
  },
  {
   "cell_type": "code",
   "execution_count": 251,
   "id": "36f5cc6c",
   "metadata": {
    "ExecuteTime": {
     "end_time": "2022-04-01T10:43:57.990003Z",
     "start_time": "2022-04-01T10:43:57.950933Z"
    }
   },
   "outputs": [
    {
     "data": {
      "text/html": [
       "<div>\n",
       "<style scoped>\n",
       "    .dataframe tbody tr th:only-of-type {\n",
       "        vertical-align: middle;\n",
       "    }\n",
       "\n",
       "    .dataframe tbody tr th {\n",
       "        vertical-align: top;\n",
       "    }\n",
       "\n",
       "    .dataframe thead th {\n",
       "        text-align: right;\n",
       "    }\n",
       "</style>\n",
       "<table border=\"1\" class=\"dataframe\">\n",
       "  <thead>\n",
       "    <tr style=\"text-align: right;\">\n",
       "      <th></th>\n",
       "      <th>YEAR</th>\n",
       "      <th>KMS_DRIVEN</th>\n",
       "      <th>FULE_TYPE</th>\n",
       "      <th>MILAGE</th>\n",
       "      <th>TRANSMISSION_TYPE</th>\n",
       "      <th>SELLER_TYPE</th>\n",
       "      <th>ENGINE</th>\n",
       "      <th>SEATS</th>\n",
       "      <th>SELLING_PRICE</th>\n",
       "    </tr>\n",
       "  </thead>\n",
       "  <tbody>\n",
       "    <tr>\n",
       "      <th>0</th>\n",
       "      <td>2012.0</td>\n",
       "      <td>120000.0</td>\n",
       "      <td>1</td>\n",
       "      <td>19.70</td>\n",
       "      <td>0</td>\n",
       "      <td>1</td>\n",
       "      <td>796.0</td>\n",
       "      <td>5.0</td>\n",
       "      <td>1.20</td>\n",
       "    </tr>\n",
       "    <tr>\n",
       "      <th>1</th>\n",
       "      <td>2016.0</td>\n",
       "      <td>20000.0</td>\n",
       "      <td>1</td>\n",
       "      <td>18.90</td>\n",
       "      <td>0</td>\n",
       "      <td>1</td>\n",
       "      <td>1197.0</td>\n",
       "      <td>5.0</td>\n",
       "      <td>5.50</td>\n",
       "    </tr>\n",
       "    <tr>\n",
       "      <th>2</th>\n",
       "      <td>2010.0</td>\n",
       "      <td>60000.0</td>\n",
       "      <td>1</td>\n",
       "      <td>17.00</td>\n",
       "      <td>0</td>\n",
       "      <td>1</td>\n",
       "      <td>1197.0</td>\n",
       "      <td>5.0</td>\n",
       "      <td>2.15</td>\n",
       "    </tr>\n",
       "    <tr>\n",
       "      <th>3</th>\n",
       "      <td>2012.0</td>\n",
       "      <td>37000.0</td>\n",
       "      <td>1</td>\n",
       "      <td>20.92</td>\n",
       "      <td>0</td>\n",
       "      <td>1</td>\n",
       "      <td>998.0</td>\n",
       "      <td>5.0</td>\n",
       "      <td>2.26</td>\n",
       "    </tr>\n",
       "    <tr>\n",
       "      <th>4</th>\n",
       "      <td>2015.0</td>\n",
       "      <td>30000.0</td>\n",
       "      <td>0</td>\n",
       "      <td>22.77</td>\n",
       "      <td>0</td>\n",
       "      <td>0</td>\n",
       "      <td>1498.0</td>\n",
       "      <td>5.0</td>\n",
       "      <td>5.70</td>\n",
       "    </tr>\n",
       "    <tr>\n",
       "      <th>...</th>\n",
       "      <td>...</td>\n",
       "      <td>...</td>\n",
       "      <td>...</td>\n",
       "      <td>...</td>\n",
       "      <td>...</td>\n",
       "      <td>...</td>\n",
       "      <td>...</td>\n",
       "      <td>...</td>\n",
       "      <td>...</td>\n",
       "    </tr>\n",
       "    <tr>\n",
       "      <th>19999</th>\n",
       "      <td>2017.0</td>\n",
       "      <td>69480.0</td>\n",
       "      <td>0</td>\n",
       "      <td>23.59</td>\n",
       "      <td>0</td>\n",
       "      <td>0</td>\n",
       "      <td>1364.0</td>\n",
       "      <td>5.0</td>\n",
       "      <td>6.50</td>\n",
       "    </tr>\n",
       "    <tr>\n",
       "      <th>20000</th>\n",
       "      <td>2019.0</td>\n",
       "      <td>18000.0</td>\n",
       "      <td>1</td>\n",
       "      <td>17.50</td>\n",
       "      <td>0</td>\n",
       "      <td>0</td>\n",
       "      <td>1373.0</td>\n",
       "      <td>7.0</td>\n",
       "      <td>9.25</td>\n",
       "    </tr>\n",
       "    <tr>\n",
       "      <th>20001</th>\n",
       "      <td>2015.0</td>\n",
       "      <td>67000.0</td>\n",
       "      <td>0</td>\n",
       "      <td>21.14</td>\n",
       "      <td>0</td>\n",
       "      <td>0</td>\n",
       "      <td>1498.0</td>\n",
       "      <td>5.0</td>\n",
       "      <td>4.25</td>\n",
       "    </tr>\n",
       "    <tr>\n",
       "      <th>20002</th>\n",
       "      <td>2016.0</td>\n",
       "      <td>3800000.0</td>\n",
       "      <td>0</td>\n",
       "      <td>16.00</td>\n",
       "      <td>0</td>\n",
       "      <td>0</td>\n",
       "      <td>2179.0</td>\n",
       "      <td>7.0</td>\n",
       "      <td>12.25</td>\n",
       "    </tr>\n",
       "    <tr>\n",
       "      <th>20003</th>\n",
       "      <td>2019.0</td>\n",
       "      <td>13000.0</td>\n",
       "      <td>1</td>\n",
       "      <td>18.00</td>\n",
       "      <td>1</td>\n",
       "      <td>0</td>\n",
       "      <td>1497.0</td>\n",
       "      <td>5.0</td>\n",
       "      <td>12.00</td>\n",
       "    </tr>\n",
       "  </tbody>\n",
       "</table>\n",
       "<p>19559 rows × 9 columns</p>\n",
       "</div>"
      ],
      "text/plain": [
       "         YEAR  KMS_DRIVEN  FULE_TYPE  MILAGE  TRANSMISSION_TYPE  SELLER_TYPE  \\\n",
       "0      2012.0    120000.0          1   19.70                  0            1   \n",
       "1      2016.0     20000.0          1   18.90                  0            1   \n",
       "2      2010.0     60000.0          1   17.00                  0            1   \n",
       "3      2012.0     37000.0          1   20.92                  0            1   \n",
       "4      2015.0     30000.0          0   22.77                  0            0   \n",
       "...       ...         ...        ...     ...                ...          ...   \n",
       "19999  2017.0     69480.0          0   23.59                  0            0   \n",
       "20000  2019.0     18000.0          1   17.50                  0            0   \n",
       "20001  2015.0     67000.0          0   21.14                  0            0   \n",
       "20002  2016.0   3800000.0          0   16.00                  0            0   \n",
       "20003  2019.0     13000.0          1   18.00                  1            0   \n",
       "\n",
       "       ENGINE  SEATS  SELLING_PRICE  \n",
       "0       796.0    5.0           1.20  \n",
       "1      1197.0    5.0           5.50  \n",
       "2      1197.0    5.0           2.15  \n",
       "3       998.0    5.0           2.26  \n",
       "4      1498.0    5.0           5.70  \n",
       "...       ...    ...            ...  \n",
       "19999  1364.0    5.0           6.50  \n",
       "20000  1373.0    7.0           9.25  \n",
       "20001  1498.0    5.0           4.25  \n",
       "20002  2179.0    7.0          12.25  \n",
       "20003  1497.0    5.0          12.00  \n",
       "\n",
       "[19559 rows x 9 columns]"
      ]
     },
     "execution_count": 251,
     "metadata": {},
     "output_type": "execute_result"
    }
   ],
   "source": [
    "data2"
   ]
  },
  {
   "cell_type": "code",
   "execution_count": 252,
   "id": "4f6b4a19",
   "metadata": {
    "ExecuteTime": {
     "end_time": "2022-04-01T10:43:58.021038Z",
     "start_time": "2022-04-01T10:43:57.992930Z"
    }
   },
   "outputs": [
    {
     "name": "stdout",
     "output_type": "stream",
     "text": [
      "<class 'pandas.core.frame.DataFrame'>\n",
      "Int64Index: 19559 entries, 0 to 20003\n",
      "Data columns (total 9 columns):\n",
      " #   Column             Non-Null Count  Dtype  \n",
      "---  ------             --------------  -----  \n",
      " 0   YEAR               19559 non-null  float64\n",
      " 1   KMS_DRIVEN         19559 non-null  float64\n",
      " 2   FULE_TYPE          19559 non-null  int64  \n",
      " 3   MILAGE             19559 non-null  float64\n",
      " 4   TRANSMISSION_TYPE  19559 non-null  int64  \n",
      " 5   SELLER_TYPE        19559 non-null  int64  \n",
      " 6   ENGINE             19559 non-null  float64\n",
      " 7   SEATS              19559 non-null  float64\n",
      " 8   SELLING_PRICE      19559 non-null  float64\n",
      "dtypes: float64(6), int64(3)\n",
      "memory usage: 1.5 MB\n"
     ]
    }
   ],
   "source": [
    "data2.info()"
   ]
  },
  {
   "cell_type": "markdown",
   "id": "1c64e21e",
   "metadata": {
    "ExecuteTime": {
     "end_time": "2022-03-18T14:34:01.113697Z",
     "start_time": "2022-03-18T14:34:01.105871Z"
    }
   },
   "source": [
    "# Normalization of the data"
   ]
  },
  {
   "cell_type": "code",
   "execution_count": 253,
   "id": "b23b0f33",
   "metadata": {
    "ExecuteTime": {
     "end_time": "2022-04-01T10:43:58.036026Z",
     "start_time": "2022-04-01T10:43:58.024802Z"
    }
   },
   "outputs": [],
   "source": [
    "#Normalization of the data\n",
    "from numpy import set_printoptions\n",
    "from sklearn.preprocessing import MinMaxScaler\n"
   ]
  },
  {
   "cell_type": "code",
   "execution_count": 254,
   "id": "f66adb5c",
   "metadata": {
    "ExecuteTime": {
     "end_time": "2022-04-01T10:43:58.083930Z",
     "start_time": "2022-04-01T10:43:58.038975Z"
    }
   },
   "outputs": [
    {
     "name": "stdout",
     "output_type": "stream",
     "text": [
      "           YEAR  KMS_DRIVEN  FULE_TYPE    MILAGE  TRANSMISSION_TYPE  \\\n",
      "0      0.700000    0.031553       0.25  0.164167                0.0   \n",
      "1      0.833333    0.005237       0.25  0.157500                0.0   \n",
      "2      0.633333    0.015764       0.25  0.141667                0.0   \n",
      "3      0.700000    0.009711       0.25  0.174333                0.0   \n",
      "4      0.800000    0.007869       0.00  0.189750                0.0   \n",
      "...         ...         ...        ...       ...                ...   \n",
      "19999  0.866667    0.018258       0.00  0.196583                0.0   \n",
      "20000  0.933333    0.004711       0.25  0.145833                0.0   \n",
      "20001  0.800000    0.017606       0.00  0.176167                0.0   \n",
      "20002  0.833333    1.000000       0.00  0.133333                0.0   \n",
      "20003  0.933333    0.003395       0.25  0.150000                1.0   \n",
      "\n",
      "       SELLER_TYPE    ENGINE     SEATS  SELLING_PRICE  \n",
      "0              0.5  0.117891  0.250000       0.002198  \n",
      "1              0.5  0.177281  0.250000       0.049451  \n",
      "2              0.5  0.177281  0.250000       0.012637  \n",
      "3              0.5  0.147808  0.250000       0.013846  \n",
      "4              0.0  0.221860  0.250000       0.051648  \n",
      "...            ...       ...       ...            ...  \n",
      "19999          0.0  0.202014  0.250000       0.060440  \n",
      "20000          0.0  0.203347  0.416667       0.090659  \n",
      "20001          0.0  0.221860  0.250000       0.035714  \n",
      "20002          0.0  0.322719  0.416667       0.123626  \n",
      "20003          0.0  0.221712  0.250000       0.120879  \n",
      "\n",
      "[19559 rows x 9 columns]\n"
     ]
    }
   ],
   "source": [
    "#Rescaling\n",
    "scaler = MinMaxScaler(feature_range=(0,1))\n",
    "rescaleData = scaler.fit_transform(data2)\n",
    "rescaleData=pd.DataFrame(rescaleData,index=data2.index,columns=data2.columns)\n",
    "print(rescaleData)"
   ]
  },
  {
   "cell_type": "markdown",
   "id": "0278ddfb",
   "metadata": {},
   "source": [
    "# Independent and Dependent variables\n",
    "\n",
    "\n"
   ]
  },
  {
   "cell_type": "code",
   "execution_count": 255,
   "id": "e10b71ea",
   "metadata": {
    "ExecuteTime": {
     "end_time": "2022-04-01T10:43:58.098940Z",
     "start_time": "2022-04-01T10:43:58.087933Z"
    }
   },
   "outputs": [],
   "source": [
    "#Independent and Dependent variables\n",
    "x=data2.drop(columns=['SELLING_PRICE'])\n",
    "y=data2.SELLING_PRICE"
   ]
  },
  {
   "cell_type": "code",
   "execution_count": 256,
   "id": "2e89364e",
   "metadata": {
    "ExecuteTime": {
     "end_time": "2022-04-01T10:43:58.129941Z",
     "start_time": "2022-04-01T10:43:58.104282Z"
    }
   },
   "outputs": [],
   "source": [
    "PredictorScaler=MinMaxScaler()\n",
    "PredictorScalerFit=PredictorScaler.fit(x)\n",
    "x=PredictorScalerFit.transform(x)"
   ]
  },
  {
   "cell_type": "markdown",
   "id": "fab7e90b",
   "metadata": {
    "ExecuteTime": {
     "end_time": "2022-03-25T07:26:14.699743Z",
     "start_time": "2022-03-25T07:26:14.684741Z"
    }
   },
   "source": [
    "# Splitting the dataset into test and train dataset"
   ]
  },
  {
   "cell_type": "code",
   "execution_count": 257,
   "id": "7e9455c0",
   "metadata": {
    "ExecuteTime": {
     "end_time": "2022-04-01T10:43:58.161367Z",
     "start_time": "2022-04-01T10:43:58.134073Z"
    }
   },
   "outputs": [],
   "source": [
    "from sklearn.model_selection import train_test_split\n",
    "\n",
    "x_train,x_test,y_train,y_test=train_test_split(x,y,random_state=42,test_size=0.3)"
   ]
  },
  {
   "cell_type": "markdown",
   "id": "a51a0434",
   "metadata": {},
   "source": [
    "# Linear regression"
   ]
  },
  {
   "cell_type": "code",
   "execution_count": 258,
   "id": "7032907c",
   "metadata": {
    "ExecuteTime": {
     "end_time": "2022-04-01T10:43:58.193320Z",
     "start_time": "2022-04-01T10:43:58.167264Z"
    }
   },
   "outputs": [
    {
     "data": {
      "text/plain": [
       "LinearRegression()"
      ]
     },
     "execution_count": 258,
     "metadata": {},
     "output_type": "execute_result"
    }
   ],
   "source": [
    "from sklearn.linear_model import LinearRegression\n",
    "model=LinearRegression()\n",
    "model.fit(x_train,y_train)"
   ]
  },
  {
   "cell_type": "code",
   "execution_count": 259,
   "id": "6354e876",
   "metadata": {
    "ExecuteTime": {
     "end_time": "2022-04-01T10:43:58.209264Z",
     "start_time": "2022-04-01T10:43:58.197759Z"
    }
   },
   "outputs": [
    {
     "data": {
      "text/plain": [
       "0.5735668999546091"
      ]
     },
     "execution_count": 259,
     "metadata": {},
     "output_type": "execute_result"
    }
   ],
   "source": [
    "linear_train_accu=model.score(x_train,y_train)\n",
    "linear_train_accu"
   ]
  },
  {
   "cell_type": "code",
   "execution_count": 260,
   "id": "f88a7d84",
   "metadata": {
    "ExecuteTime": {
     "end_time": "2022-04-01T10:43:58.240358Z",
     "start_time": "2022-04-01T10:43:58.213530Z"
    }
   },
   "outputs": [
    {
     "data": {
      "text/plain": [
       "0.5612989810807982"
      ]
     },
     "execution_count": 260,
     "metadata": {},
     "output_type": "execute_result"
    }
   ],
   "source": [
    "linear_test_accu= model.score(x_test,y_test)\n",
    "linear_test_accu"
   ]
  },
  {
   "cell_type": "code",
   "execution_count": 261,
   "id": "a97957d1",
   "metadata": {
    "ExecuteTime": {
     "end_time": "2022-04-01T10:43:58.271047Z",
     "start_time": "2022-04-01T10:43:58.244271Z"
    }
   },
   "outputs": [
    {
     "data": {
      "text/plain": [
       "array([ 1.4007802 ,  1.77308656, 11.80201563, ...,  1.48717057,\n",
       "        0.41947319,  4.32302788])"
      ]
     },
     "execution_count": 261,
     "metadata": {},
     "output_type": "execute_result"
    }
   ],
   "source": [
    "y_pred = model.predict(x_test)\n",
    "y_pred"
   ]
  },
  {
   "cell_type": "code",
   "execution_count": 262,
   "id": "8e689ad9",
   "metadata": {
    "ExecuteTime": {
     "end_time": "2022-04-01T10:43:58.301263Z",
     "start_time": "2022-04-01T10:43:58.275887Z"
    }
   },
   "outputs": [
    {
     "data": {
      "text/html": [
       "<div>\n",
       "<style scoped>\n",
       "    .dataframe tbody tr th:only-of-type {\n",
       "        vertical-align: middle;\n",
       "    }\n",
       "\n",
       "    .dataframe tbody tr th {\n",
       "        vertical-align: top;\n",
       "    }\n",
       "\n",
       "    .dataframe thead th {\n",
       "        text-align: right;\n",
       "    }\n",
       "</style>\n",
       "<table border=\"1\" class=\"dataframe\">\n",
       "  <thead>\n",
       "    <tr style=\"text-align: right;\">\n",
       "      <th></th>\n",
       "      <th>Actual Values</th>\n",
       "      <th>Predicted Values</th>\n",
       "    </tr>\n",
       "  </thead>\n",
       "  <tbody>\n",
       "    <tr>\n",
       "      <th>6061</th>\n",
       "      <td>3.300000</td>\n",
       "      <td>1.400780</td>\n",
       "    </tr>\n",
       "    <tr>\n",
       "      <th>15082</th>\n",
       "      <td>5.990000</td>\n",
       "      <td>1.773087</td>\n",
       "    </tr>\n",
       "    <tr>\n",
       "      <th>4265</th>\n",
       "      <td>6.210000</td>\n",
       "      <td>11.802016</td>\n",
       "    </tr>\n",
       "    <tr>\n",
       "      <th>6309</th>\n",
       "      <td>6.800000</td>\n",
       "      <td>6.865844</td>\n",
       "    </tr>\n",
       "    <tr>\n",
       "      <th>5492</th>\n",
       "      <td>8.692013</td>\n",
       "      <td>16.544848</td>\n",
       "    </tr>\n",
       "    <tr>\n",
       "      <th>...</th>\n",
       "      <td>...</td>\n",
       "      <td>...</td>\n",
       "    </tr>\n",
       "    <tr>\n",
       "      <th>17969</th>\n",
       "      <td>4.550000</td>\n",
       "      <td>4.392459</td>\n",
       "    </tr>\n",
       "    <tr>\n",
       "      <th>13171</th>\n",
       "      <td>3.960000</td>\n",
       "      <td>10.549983</td>\n",
       "    </tr>\n",
       "    <tr>\n",
       "      <th>18066</th>\n",
       "      <td>2.990000</td>\n",
       "      <td>1.487171</td>\n",
       "    </tr>\n",
       "    <tr>\n",
       "      <th>17926</th>\n",
       "      <td>1.400000</td>\n",
       "      <td>0.419473</td>\n",
       "    </tr>\n",
       "    <tr>\n",
       "      <th>18155</th>\n",
       "      <td>9.600000</td>\n",
       "      <td>4.323028</td>\n",
       "    </tr>\n",
       "  </tbody>\n",
       "</table>\n",
       "<p>5868 rows × 2 columns</p>\n",
       "</div>"
      ],
      "text/plain": [
       "       Actual Values  Predicted Values\n",
       "6061        3.300000          1.400780\n",
       "15082       5.990000          1.773087\n",
       "4265        6.210000         11.802016\n",
       "6309        6.800000          6.865844\n",
       "5492        8.692013         16.544848\n",
       "...              ...               ...\n",
       "17969       4.550000          4.392459\n",
       "13171       3.960000         10.549983\n",
       "18066       2.990000          1.487171\n",
       "17926       1.400000          0.419473\n",
       "18155       9.600000          4.323028\n",
       "\n",
       "[5868 rows x 2 columns]"
      ]
     },
     "execution_count": 262,
     "metadata": {},
     "output_type": "execute_result"
    }
   ],
   "source": [
    "result1 = pd.DataFrame({'Actual Values':y_test, 'Predicted Values':y_pred})\n",
    "result1"
   ]
  },
  {
   "cell_type": "markdown",
   "id": "68c076df",
   "metadata": {},
   "source": [
    "# Decision tree Regressor"
   ]
  },
  {
   "cell_type": "code",
   "execution_count": 263,
   "id": "0578ce2c",
   "metadata": {
    "ExecuteTime": {
     "end_time": "2022-04-01T10:43:58.396267Z",
     "start_time": "2022-04-01T10:43:58.305265Z"
    }
   },
   "outputs": [
    {
     "data": {
      "text/plain": [
       "DecisionTreeRegressor()"
      ]
     },
     "execution_count": 263,
     "metadata": {},
     "output_type": "execute_result"
    }
   ],
   "source": [
    "from sklearn.tree import DecisionTreeRegressor\n",
    "regressor2 = DecisionTreeRegressor()\n",
    "regressor2.fit(x_train, y_train)"
   ]
  },
  {
   "cell_type": "code",
   "execution_count": 264,
   "id": "6768d472",
   "metadata": {
    "ExecuteTime": {
     "end_time": "2022-04-01T10:43:58.427265Z",
     "start_time": "2022-04-01T10:43:58.406263Z"
    }
   },
   "outputs": [],
   "source": [
    "y_pred = regressor2.predict(x_test)"
   ]
  },
  {
   "cell_type": "code",
   "execution_count": 265,
   "id": "954dc24a",
   "metadata": {
    "ExecuteTime": {
     "end_time": "2022-04-01T10:43:58.456931Z",
     "start_time": "2022-04-01T10:43:58.433629Z"
    }
   },
   "outputs": [
    {
     "data": {
      "text/plain": [
       "0.9992179531859874"
      ]
     },
     "execution_count": 265,
     "metadata": {},
     "output_type": "execute_result"
    }
   ],
   "source": [
    "dt_train_accu=regressor2.score(x_train, y_train)\n",
    "dt_train_accu"
   ]
  },
  {
   "cell_type": "code",
   "execution_count": 266,
   "id": "e8642e75",
   "metadata": {
    "ExecuteTime": {
     "end_time": "2022-04-01T10:43:58.488286Z",
     "start_time": "2022-04-01T10:43:58.460291Z"
    }
   },
   "outputs": [
    {
     "data": {
      "text/plain": [
       "0.798937420089533"
      ]
     },
     "execution_count": 266,
     "metadata": {},
     "output_type": "execute_result"
    }
   ],
   "source": [
    "dt_test_accu = regressor2.score(x_test, y_test)\n",
    "dt_test_accu"
   ]
  },
  {
   "cell_type": "code",
   "execution_count": 267,
   "id": "a8b56705",
   "metadata": {
    "ExecuteTime": {
     "end_time": "2022-04-01T10:43:58.520362Z",
     "start_time": "2022-04-01T10:43:58.491957Z"
    }
   },
   "outputs": [
    {
     "data": {
      "text/html": [
       "<div>\n",
       "<style scoped>\n",
       "    .dataframe tbody tr th:only-of-type {\n",
       "        vertical-align: middle;\n",
       "    }\n",
       "\n",
       "    .dataframe tbody tr th {\n",
       "        vertical-align: top;\n",
       "    }\n",
       "\n",
       "    .dataframe thead th {\n",
       "        text-align: right;\n",
       "    }\n",
       "</style>\n",
       "<table border=\"1\" class=\"dataframe\">\n",
       "  <thead>\n",
       "    <tr style=\"text-align: right;\">\n",
       "      <th></th>\n",
       "      <th>Actual Values</th>\n",
       "      <th>Predicted Values</th>\n",
       "    </tr>\n",
       "  </thead>\n",
       "  <tbody>\n",
       "    <tr>\n",
       "      <th>6061</th>\n",
       "      <td>3.300000</td>\n",
       "      <td>2.75</td>\n",
       "    </tr>\n",
       "    <tr>\n",
       "      <th>15082</th>\n",
       "      <td>5.990000</td>\n",
       "      <td>6.75</td>\n",
       "    </tr>\n",
       "    <tr>\n",
       "      <th>4265</th>\n",
       "      <td>6.210000</td>\n",
       "      <td>5.60</td>\n",
       "    </tr>\n",
       "    <tr>\n",
       "      <th>6309</th>\n",
       "      <td>6.800000</td>\n",
       "      <td>5.96</td>\n",
       "    </tr>\n",
       "    <tr>\n",
       "      <th>5492</th>\n",
       "      <td>8.692013</td>\n",
       "      <td>11.45</td>\n",
       "    </tr>\n",
       "    <tr>\n",
       "      <th>...</th>\n",
       "      <td>...</td>\n",
       "      <td>...</td>\n",
       "    </tr>\n",
       "    <tr>\n",
       "      <th>17969</th>\n",
       "      <td>4.550000</td>\n",
       "      <td>3.45</td>\n",
       "    </tr>\n",
       "    <tr>\n",
       "      <th>13171</th>\n",
       "      <td>3.960000</td>\n",
       "      <td>4.49</td>\n",
       "    </tr>\n",
       "    <tr>\n",
       "      <th>18066</th>\n",
       "      <td>2.990000</td>\n",
       "      <td>2.89</td>\n",
       "    </tr>\n",
       "    <tr>\n",
       "      <th>17926</th>\n",
       "      <td>1.400000</td>\n",
       "      <td>4.00</td>\n",
       "    </tr>\n",
       "    <tr>\n",
       "      <th>18155</th>\n",
       "      <td>9.600000</td>\n",
       "      <td>6.00</td>\n",
       "    </tr>\n",
       "  </tbody>\n",
       "</table>\n",
       "<p>5868 rows × 2 columns</p>\n",
       "</div>"
      ],
      "text/plain": [
       "       Actual Values  Predicted Values\n",
       "6061        3.300000              2.75\n",
       "15082       5.990000              6.75\n",
       "4265        6.210000              5.60\n",
       "6309        6.800000              5.96\n",
       "5492        8.692013             11.45\n",
       "...              ...               ...\n",
       "17969       4.550000              3.45\n",
       "13171       3.960000              4.49\n",
       "18066       2.990000              2.89\n",
       "17926       1.400000              4.00\n",
       "18155       9.600000              6.00\n",
       "\n",
       "[5868 rows x 2 columns]"
      ]
     },
     "execution_count": 267,
     "metadata": {},
     "output_type": "execute_result"
    }
   ],
   "source": [
    "result2 = pd.DataFrame({'Actual Values':y_test, 'Predicted Values':y_pred})\n",
    "result2"
   ]
  },
  {
   "cell_type": "markdown",
   "id": "703385e4",
   "metadata": {
    "ExecuteTime": {
     "end_time": "2022-03-23T10:49:17.992665Z",
     "start_time": "2022-03-23T10:49:17.972670Z"
    }
   },
   "source": [
    "# Random forest Regressor"
   ]
  },
  {
   "cell_type": "code",
   "execution_count": 268,
   "id": "4349289b",
   "metadata": {
    "ExecuteTime": {
     "end_time": "2022-04-01T10:43:58.978350Z",
     "start_time": "2022-04-01T10:43:58.524290Z"
    }
   },
   "outputs": [
    {
     "data": {
      "text/plain": [
       "RandomForestRegressor(n_estimators=10, random_state=0)"
      ]
     },
     "execution_count": 268,
     "metadata": {},
     "output_type": "execute_result"
    }
   ],
   "source": [
    "from sklearn.ensemble import RandomForestRegressor\n",
    "regressor3 = RandomForestRegressor(n_estimators = 10, random_state = 0)\n",
    "regressor3.fit(x_train, y_train)\n"
   ]
  },
  {
   "cell_type": "code",
   "execution_count": 269,
   "id": "294b5f66",
   "metadata": {
    "ExecuteTime": {
     "end_time": "2022-04-01T10:43:59.025206Z",
     "start_time": "2022-04-01T10:43:58.983350Z"
    }
   },
   "outputs": [],
   "source": [
    "y_pred = regressor3.predict(x_test)"
   ]
  },
  {
   "cell_type": "code",
   "execution_count": 270,
   "id": "d982ee70",
   "metadata": {
    "ExecuteTime": {
     "end_time": "2022-04-01T10:43:59.086879Z",
     "start_time": "2022-04-01T10:43:59.029639Z"
    }
   },
   "outputs": [
    {
     "data": {
      "text/plain": [
       "0.9701483006989476"
      ]
     },
     "execution_count": 270,
     "metadata": {},
     "output_type": "execute_result"
    }
   ],
   "source": [
    "rf_train_accu=regressor3.score(x_train, y_train)\n",
    "rf_train_accu"
   ]
  },
  {
   "cell_type": "code",
   "execution_count": 271,
   "id": "58ac8c5d",
   "metadata": {
    "ExecuteTime": {
     "end_time": "2022-04-01T10:43:59.133788Z",
     "start_time": "2022-04-01T10:43:59.090404Z"
    }
   },
   "outputs": [
    {
     "data": {
      "text/plain": [
       "0.8857152361352935"
      ]
     },
     "execution_count": 271,
     "metadata": {},
     "output_type": "execute_result"
    }
   ],
   "source": [
    "rf_test_accu = regressor3.score(x_test, y_test)\n",
    "rf_test_accu"
   ]
  },
  {
   "cell_type": "code",
   "execution_count": 272,
   "id": "3ae8b6f3",
   "metadata": {
    "ExecuteTime": {
     "end_time": "2022-04-01T10:43:59.165836Z",
     "start_time": "2022-04-01T10:43:59.135789Z"
    }
   },
   "outputs": [
    {
     "data": {
      "text/html": [
       "<div>\n",
       "<style scoped>\n",
       "    .dataframe tbody tr th:only-of-type {\n",
       "        vertical-align: middle;\n",
       "    }\n",
       "\n",
       "    .dataframe tbody tr th {\n",
       "        vertical-align: top;\n",
       "    }\n",
       "\n",
       "    .dataframe thead th {\n",
       "        text-align: right;\n",
       "    }\n",
       "</style>\n",
       "<table border=\"1\" class=\"dataframe\">\n",
       "  <thead>\n",
       "    <tr style=\"text-align: right;\">\n",
       "      <th></th>\n",
       "      <th>Actual Values</th>\n",
       "      <th>Predicted Values</th>\n",
       "    </tr>\n",
       "  </thead>\n",
       "  <tbody>\n",
       "    <tr>\n",
       "      <th>6061</th>\n",
       "      <td>3.300000</td>\n",
       "      <td>3.300000</td>\n",
       "    </tr>\n",
       "    <tr>\n",
       "      <th>15082</th>\n",
       "      <td>5.990000</td>\n",
       "      <td>6.595000</td>\n",
       "    </tr>\n",
       "    <tr>\n",
       "      <th>4265</th>\n",
       "      <td>6.210000</td>\n",
       "      <td>5.384000</td>\n",
       "    </tr>\n",
       "    <tr>\n",
       "      <th>6309</th>\n",
       "      <td>6.800000</td>\n",
       "      <td>6.163131</td>\n",
       "    </tr>\n",
       "    <tr>\n",
       "      <th>5492</th>\n",
       "      <td>8.692013</td>\n",
       "      <td>10.603667</td>\n",
       "    </tr>\n",
       "    <tr>\n",
       "      <th>...</th>\n",
       "      <td>...</td>\n",
       "      <td>...</td>\n",
       "    </tr>\n",
       "    <tr>\n",
       "      <th>17969</th>\n",
       "      <td>4.550000</td>\n",
       "      <td>3.505000</td>\n",
       "    </tr>\n",
       "    <tr>\n",
       "      <th>13171</th>\n",
       "      <td>3.960000</td>\n",
       "      <td>3.765000</td>\n",
       "    </tr>\n",
       "    <tr>\n",
       "      <th>18066</th>\n",
       "      <td>2.990000</td>\n",
       "      <td>2.658000</td>\n",
       "    </tr>\n",
       "    <tr>\n",
       "      <th>17926</th>\n",
       "      <td>1.400000</td>\n",
       "      <td>3.430000</td>\n",
       "    </tr>\n",
       "    <tr>\n",
       "      <th>18155</th>\n",
       "      <td>9.600000</td>\n",
       "      <td>8.141000</td>\n",
       "    </tr>\n",
       "  </tbody>\n",
       "</table>\n",
       "<p>5868 rows × 2 columns</p>\n",
       "</div>"
      ],
      "text/plain": [
       "       Actual Values  Predicted Values\n",
       "6061        3.300000          3.300000\n",
       "15082       5.990000          6.595000\n",
       "4265        6.210000          5.384000\n",
       "6309        6.800000          6.163131\n",
       "5492        8.692013         10.603667\n",
       "...              ...               ...\n",
       "17969       4.550000          3.505000\n",
       "13171       3.960000          3.765000\n",
       "18066       2.990000          2.658000\n",
       "17926       1.400000          3.430000\n",
       "18155       9.600000          8.141000\n",
       "\n",
       "[5868 rows x 2 columns]"
      ]
     },
     "execution_count": 272,
     "metadata": {},
     "output_type": "execute_result"
    }
   ],
   "source": [
    "result3 = pd.DataFrame({'Actual Values':y_test, 'Predicted Values':y_pred})\n",
    "result3"
   ]
  },
  {
   "cell_type": "markdown",
   "id": "79bdfdbe",
   "metadata": {},
   "source": [
    "# KNN"
   ]
  },
  {
   "cell_type": "code",
   "execution_count": 273,
   "id": "5f073ed2",
   "metadata": {
    "ExecuteTime": {
     "end_time": "2022-04-01T10:43:59.181839Z",
     "start_time": "2022-04-01T10:43:59.170839Z"
    }
   },
   "outputs": [],
   "source": [
    "from sklearn.neighbors import KNeighborsRegressor\n",
    "from sklearn.model_selection import GridSearchCV,cross_val_score\n",
    "n_neighbors = np.array(range(1,50))\n",
    "param_grid = dict(n_neighbors=n_neighbors)\n",
    "model=KNeighborsRegressor()"
   ]
  },
  {
   "cell_type": "code",
   "execution_count": 274,
   "id": "69fda1d1",
   "metadata": {
    "ExecuteTime": {
     "end_time": "2022-04-01T10:44:34.748216Z",
     "start_time": "2022-04-01T10:43:59.184962Z"
    }
   },
   "outputs": [
    {
     "data": {
      "text/plain": [
       "GridSearchCV(estimator=KNeighborsRegressor(),\n",
       "             param_grid={'n_neighbors': array([ 1,  2,  3,  4,  5,  6,  7,  8,  9, 10, 11, 12, 13, 14, 15, 16, 17,\n",
       "       18, 19, 20, 21, 22, 23, 24, 25, 26, 27, 28, 29, 30, 31, 32, 33, 34,\n",
       "       35, 36, 37, 38, 39, 40, 41, 42, 43, 44, 45, 46, 47, 48, 49])})"
      ]
     },
     "execution_count": 274,
     "metadata": {},
     "output_type": "execute_result"
    }
   ],
   "source": [
    "gsv=GridSearchCV(model,param_grid=param_grid)\n",
    "gsv.fit(x_train,y_train)"
   ]
  },
  {
   "cell_type": "code",
   "execution_count": 275,
   "id": "5ae7bb50",
   "metadata": {
    "ExecuteTime": {
     "end_time": "2022-04-01T10:44:34.763953Z",
     "start_time": "2022-04-01T10:44:34.752467Z"
    }
   },
   "outputs": [
    {
     "name": "stdout",
     "output_type": "stream",
     "text": [
      "0.805768035755696\n",
      "{'n_neighbors': 4}\n"
     ]
    }
   ],
   "source": [
    "print(gsv.best_score_)\n",
    "print(gsv.best_params_)"
   ]
  },
  {
   "cell_type": "code",
   "execution_count": 276,
   "id": "8883dace",
   "metadata": {
    "ExecuteTime": {
     "end_time": "2022-04-01T10:44:34.779278Z",
     "start_time": "2022-04-01T10:44:34.769223Z"
    }
   },
   "outputs": [],
   "source": [
    "knn = KNeighborsRegressor(n_neighbors=4)"
   ]
  },
  {
   "cell_type": "code",
   "execution_count": 277,
   "id": "4c8f65e9",
   "metadata": {
    "ExecuteTime": {
     "end_time": "2022-04-01T10:44:34.856344Z",
     "start_time": "2022-04-01T10:44:34.784398Z"
    }
   },
   "outputs": [
    {
     "data": {
      "text/plain": [
       "KNeighborsRegressor(n_neighbors=4)"
      ]
     },
     "execution_count": 277,
     "metadata": {},
     "output_type": "execute_result"
    }
   ],
   "source": [
    "knn.fit(x_train, y_train)"
   ]
  },
  {
   "cell_type": "code",
   "execution_count": 278,
   "id": "aaba7980",
   "metadata": {
    "ExecuteTime": {
     "end_time": "2022-04-01T10:44:35.297159Z",
     "start_time": "2022-04-01T10:44:34.858222Z"
    }
   },
   "outputs": [
    {
     "data": {
      "text/plain": [
       "0.8920448860945667"
      ]
     },
     "execution_count": 278,
     "metadata": {},
     "output_type": "execute_result"
    }
   ],
   "source": [
    "kn_train_accu=knn.score(x_train, y_train)\n",
    "kn_train_accu"
   ]
  },
  {
   "cell_type": "code",
   "execution_count": 279,
   "id": "704a3cf6",
   "metadata": {
    "ExecuteTime": {
     "end_time": "2022-04-01T10:44:35.486180Z",
     "start_time": "2022-04-01T10:44:35.301104Z"
    }
   },
   "outputs": [
    {
     "data": {
      "text/plain": [
       "0.8465728280317751"
      ]
     },
     "execution_count": 279,
     "metadata": {},
     "output_type": "execute_result"
    }
   ],
   "source": [
    "kn_test_accu=knn.score(x_test, y_test)\n",
    "kn_test_accu"
   ]
  },
  {
   "cell_type": "code",
   "execution_count": 280,
   "id": "fa8eec2b",
   "metadata": {
    "ExecuteTime": {
     "end_time": "2022-04-01T10:45:20.898511Z",
     "start_time": "2022-04-01T10:44:35.489584Z"
    }
   },
   "outputs": [
    {
     "data": {
      "image/png": "[encoded data removed]",
      "text/plain": [
       "<Figure size 432x288 with 1 Axes>"
      ]
     },
     "metadata": {
      "needs_background": "light"
     },
     "output_type": "display_data"
    }
   ],
   "source": [
    "k_range = range(1,50)\n",
    "k_scores = []\n",
    "for k in k_range:\n",
    "    knn = KNeighborsRegressor(n_neighbors=k)\n",
    "    scores = cross_val_score(knn, x_train, y_train, cv=10)\n",
    "    k_scores.append(scores.mean())\n",
    "plt.plot(k_range, k_scores)\n",
    "plt.xlabel('Value of K for KNN')\n",
    "plt.ylabel('Cross-Validated Accuracy')\n",
    "plt.show()"
   ]
  },
  {
   "cell_type": "code",
   "execution_count": 281,
   "id": "533764e6",
   "metadata": {
    "ExecuteTime": {
     "end_time": "2022-04-01T10:45:20.946137Z",
     "start_time": "2022-04-01T10:45:20.917317Z"
    }
   },
   "outputs": [
    {
     "data": {
      "text/html": [
       "<div>\n",
       "<style scoped>\n",
       "    .dataframe tbody tr th:only-of-type {\n",
       "        vertical-align: middle;\n",
       "    }\n",
       "\n",
       "    .dataframe tbody tr th {\n",
       "        vertical-align: top;\n",
       "    }\n",
       "\n",
       "    .dataframe thead th {\n",
       "        text-align: right;\n",
       "    }\n",
       "</style>\n",
       "<table border=\"1\" class=\"dataframe\">\n",
       "  <thead>\n",
       "    <tr style=\"text-align: right;\">\n",
       "      <th></th>\n",
       "      <th>Actual Values</th>\n",
       "      <th>Predicted Values</th>\n",
       "    </tr>\n",
       "  </thead>\n",
       "  <tbody>\n",
       "    <tr>\n",
       "      <th>6061</th>\n",
       "      <td>3.300000</td>\n",
       "      <td>3.300000</td>\n",
       "    </tr>\n",
       "    <tr>\n",
       "      <th>15082</th>\n",
       "      <td>5.990000</td>\n",
       "      <td>6.595000</td>\n",
       "    </tr>\n",
       "    <tr>\n",
       "      <th>4265</th>\n",
       "      <td>6.210000</td>\n",
       "      <td>5.384000</td>\n",
       "    </tr>\n",
       "    <tr>\n",
       "      <th>6309</th>\n",
       "      <td>6.800000</td>\n",
       "      <td>6.163131</td>\n",
       "    </tr>\n",
       "    <tr>\n",
       "      <th>5492</th>\n",
       "      <td>8.692013</td>\n",
       "      <td>10.603667</td>\n",
       "    </tr>\n",
       "    <tr>\n",
       "      <th>...</th>\n",
       "      <td>...</td>\n",
       "      <td>...</td>\n",
       "    </tr>\n",
       "    <tr>\n",
       "      <th>17969</th>\n",
       "      <td>4.550000</td>\n",
       "      <td>3.505000</td>\n",
       "    </tr>\n",
       "    <tr>\n",
       "      <th>13171</th>\n",
       "      <td>3.960000</td>\n",
       "      <td>3.765000</td>\n",
       "    </tr>\n",
       "    <tr>\n",
       "      <th>18066</th>\n",
       "      <td>2.990000</td>\n",
       "      <td>2.658000</td>\n",
       "    </tr>\n",
       "    <tr>\n",
       "      <th>17926</th>\n",
       "      <td>1.400000</td>\n",
       "      <td>3.430000</td>\n",
       "    </tr>\n",
       "    <tr>\n",
       "      <th>18155</th>\n",
       "      <td>9.600000</td>\n",
       "      <td>8.141000</td>\n",
       "    </tr>\n",
       "  </tbody>\n",
       "</table>\n",
       "<p>5868 rows × 2 columns</p>\n",
       "</div>"
      ],
      "text/plain": [
       "       Actual Values  Predicted Values\n",
       "6061        3.300000          3.300000\n",
       "15082       5.990000          6.595000\n",
       "4265        6.210000          5.384000\n",
       "6309        6.800000          6.163131\n",
       "5492        8.692013         10.603667\n",
       "...              ...               ...\n",
       "17969       4.550000          3.505000\n",
       "13171       3.960000          3.765000\n",
       "18066       2.990000          2.658000\n",
       "17926       1.400000          3.430000\n",
       "18155       9.600000          8.141000\n",
       "\n",
       "[5868 rows x 2 columns]"
      ]
     },
     "execution_count": 281,
     "metadata": {},
     "output_type": "execute_result"
    }
   ],
   "source": [
    "result4 = pd.DataFrame({'Actual Values':y_test, 'Predicted Values':y_pred})\n",
    "result4"
   ]
  },
  {
   "cell_type": "markdown",
   "id": "cb4f6218",
   "metadata": {},
   "source": [
    "# XGBoost"
   ]
  },
  {
   "cell_type": "code",
   "execution_count": 282,
   "id": "d5f14781",
   "metadata": {
    "ExecuteTime": {
     "end_time": "2022-04-01T10:45:21.943065Z",
     "start_time": "2022-04-01T10:45:20.969181Z"
    }
   },
   "outputs": [
    {
     "data": {
      "text/plain": [
       "XGBRegressor(base_score=0.5, booster='gbtree', colsample_bylevel=1,\n",
       "             colsample_bynode=1, colsample_bytree=1, enable_categorical=False,\n",
       "             gamma=0, gpu_id=-1, importance_type=None,\n",
       "             interaction_constraints='', learning_rate=0.300000012,\n",
       "             max_delta_step=0, max_depth=6, min_child_weight=1, missing=nan,\n",
       "             monotone_constraints='()', n_estimators=100, n_jobs=4,\n",
       "             num_parallel_tree=1, predictor='auto', random_state=0, reg_alpha=0,\n",
       "             reg_lambda=1, scale_pos_weight=1, subsample=1, tree_method='exact',\n",
       "             validate_parameters=1, verbosity=None)"
      ]
     },
     "execution_count": 282,
     "metadata": {},
     "output_type": "execute_result"
    }
   ],
   "source": [
    "from xgboost import XGBRegressor\n",
    "xgbr = XGBRegressor()\n",
    "xgbr.fit(x_train, y_train)"
   ]
  },
  {
   "cell_type": "code",
   "execution_count": 283,
   "id": "cd88bd0f",
   "metadata": {
    "ExecuteTime": {
     "end_time": "2022-04-01T10:45:21.973914Z",
     "start_time": "2022-04-01T10:45:21.947541Z"
    }
   },
   "outputs": [],
   "source": [
    "y_pred = xgbr.predict(x_test)\n"
   ]
  },
  {
   "cell_type": "code",
   "execution_count": 284,
   "id": "37d6017a",
   "metadata": {
    "ExecuteTime": {
     "end_time": "2022-04-01T10:45:22.019971Z",
     "start_time": "2022-04-01T10:45:21.977919Z"
    }
   },
   "outputs": [
    {
     "data": {
      "text/plain": [
       "0.9759508694780505"
      ]
     },
     "execution_count": 284,
     "metadata": {},
     "output_type": "execute_result"
    }
   ],
   "source": [
    "xgb_train_accu=xgbr.score(x_train, y_train)\n",
    "xgb_train_accu"
   ]
  },
  {
   "cell_type": "code",
   "execution_count": 285,
   "id": "8c9ce88c",
   "metadata": {
    "ExecuteTime": {
     "end_time": "2022-04-01T10:45:22.066095Z",
     "start_time": "2022-04-01T10:45:22.022920Z"
    }
   },
   "outputs": [
    {
     "data": {
      "text/plain": [
       "0.9205238392088743"
      ]
     },
     "execution_count": 285,
     "metadata": {},
     "output_type": "execute_result"
    }
   ],
   "source": [
    "xgb_test_accu=xgbr.score(x_test, y_test)\n",
    "xgb_test_accu"
   ]
  },
  {
   "cell_type": "code",
   "execution_count": 286,
   "id": "36fbacfb",
   "metadata": {
    "ExecuteTime": {
     "end_time": "2022-04-01T10:45:22.096971Z",
     "start_time": "2022-04-01T10:45:22.069920Z"
    }
   },
   "outputs": [
    {
     "data": {
      "text/html": [
       "<div>\n",
       "<style scoped>\n",
       "    .dataframe tbody tr th:only-of-type {\n",
       "        vertical-align: middle;\n",
       "    }\n",
       "\n",
       "    .dataframe tbody tr th {\n",
       "        vertical-align: top;\n",
       "    }\n",
       "\n",
       "    .dataframe thead th {\n",
       "        text-align: right;\n",
       "    }\n",
       "</style>\n",
       "<table border=\"1\" class=\"dataframe\">\n",
       "  <thead>\n",
       "    <tr style=\"text-align: right;\">\n",
       "      <th></th>\n",
       "      <th>Actual Values</th>\n",
       "      <th>Predicted Values</th>\n",
       "    </tr>\n",
       "  </thead>\n",
       "  <tbody>\n",
       "    <tr>\n",
       "      <th>6061</th>\n",
       "      <td>3.300000</td>\n",
       "      <td>3.208839</td>\n",
       "    </tr>\n",
       "    <tr>\n",
       "      <th>15082</th>\n",
       "      <td>5.990000</td>\n",
       "      <td>6.379042</td>\n",
       "    </tr>\n",
       "    <tr>\n",
       "      <th>4265</th>\n",
       "      <td>6.210000</td>\n",
       "      <td>6.025722</td>\n",
       "    </tr>\n",
       "    <tr>\n",
       "      <th>6309</th>\n",
       "      <td>6.800000</td>\n",
       "      <td>6.642421</td>\n",
       "    </tr>\n",
       "    <tr>\n",
       "      <th>5492</th>\n",
       "      <td>8.692013</td>\n",
       "      <td>8.971586</td>\n",
       "    </tr>\n",
       "    <tr>\n",
       "      <th>...</th>\n",
       "      <td>...</td>\n",
       "      <td>...</td>\n",
       "    </tr>\n",
       "    <tr>\n",
       "      <th>17969</th>\n",
       "      <td>4.550000</td>\n",
       "      <td>3.529473</td>\n",
       "    </tr>\n",
       "    <tr>\n",
       "      <th>13171</th>\n",
       "      <td>3.960000</td>\n",
       "      <td>3.607061</td>\n",
       "    </tr>\n",
       "    <tr>\n",
       "      <th>18066</th>\n",
       "      <td>2.990000</td>\n",
       "      <td>2.888964</td>\n",
       "    </tr>\n",
       "    <tr>\n",
       "      <th>17926</th>\n",
       "      <td>1.400000</td>\n",
       "      <td>2.931166</td>\n",
       "    </tr>\n",
       "    <tr>\n",
       "      <th>18155</th>\n",
       "      <td>9.600000</td>\n",
       "      <td>9.129564</td>\n",
       "    </tr>\n",
       "  </tbody>\n",
       "</table>\n",
       "<p>5868 rows × 2 columns</p>\n",
       "</div>"
      ],
      "text/plain": [
       "       Actual Values  Predicted Values\n",
       "6061        3.300000          3.208839\n",
       "15082       5.990000          6.379042\n",
       "4265        6.210000          6.025722\n",
       "6309        6.800000          6.642421\n",
       "5492        8.692013          8.971586\n",
       "...              ...               ...\n",
       "17969       4.550000          3.529473\n",
       "13171       3.960000          3.607061\n",
       "18066       2.990000          2.888964\n",
       "17926       1.400000          2.931166\n",
       "18155       9.600000          9.129564\n",
       "\n",
       "[5868 rows x 2 columns]"
      ]
     },
     "execution_count": 286,
     "metadata": {},
     "output_type": "execute_result"
    }
   ],
   "source": [
    "result5 = pd.DataFrame({'Actual Values':y_test, 'Predicted Values':y_pred})\n",
    "result5"
   ]
  },
  {
   "cell_type": "markdown",
   "id": "5285b7a2",
   "metadata": {},
   "source": [
    "# Gradient Boosting"
   ]
  },
  {
   "cell_type": "code",
   "execution_count": 287,
   "id": "ac281eb7",
   "metadata": {
    "ExecuteTime": {
     "end_time": "2022-04-01T10:45:23.281221Z",
     "start_time": "2022-04-01T10:45:22.102920Z"
    }
   },
   "outputs": [
    {
     "data": {
      "text/plain": [
       "GradientBoostingRegressor()"
      ]
     },
     "execution_count": 287,
     "metadata": {},
     "output_type": "execute_result"
    }
   ],
   "source": [
    "from sklearn import ensemble\n",
    "gbr = ensemble.GradientBoostingRegressor()\n",
    "gbr.fit(x_train, y_train)"
   ]
  },
  {
   "cell_type": "code",
   "execution_count": 288,
   "id": "19beb47a",
   "metadata": {
    "ExecuteTime": {
     "end_time": "2022-04-01T10:45:23.329260Z",
     "start_time": "2022-04-01T10:45:23.285535Z"
    }
   },
   "outputs": [
    {
     "data": {
      "text/plain": [
       "0.8645170176579676"
      ]
     },
     "execution_count": 288,
     "metadata": {},
     "output_type": "execute_result"
    }
   ],
   "source": [
    "gb_train_accu=gbr.score(x_train, y_train)\n",
    "gb_train_accu"
   ]
  },
  {
   "cell_type": "code",
   "execution_count": 289,
   "id": "9a583c84",
   "metadata": {
    "ExecuteTime": {
     "end_time": "2022-04-01T10:45:23.361325Z",
     "start_time": "2022-04-01T10:45:23.333256Z"
    }
   },
   "outputs": [
    {
     "data": {
      "text/plain": [
       "0.8505041075578281"
      ]
     },
     "execution_count": 289,
     "metadata": {},
     "output_type": "execute_result"
    }
   ],
   "source": [
    "gb_test_accu=gbr.score(x_test, y_test)\n",
    "gb_test_accu"
   ]
  },
  {
   "cell_type": "code",
   "execution_count": 290,
   "id": "987f15f2",
   "metadata": {
    "ExecuteTime": {
     "end_time": "2022-04-01T10:45:23.392317Z",
     "start_time": "2022-04-01T10:45:23.366252Z"
    }
   },
   "outputs": [
    {
     "data": {
      "text/html": [
       "<div>\n",
       "<style scoped>\n",
       "    .dataframe tbody tr th:only-of-type {\n",
       "        vertical-align: middle;\n",
       "    }\n",
       "\n",
       "    .dataframe tbody tr th {\n",
       "        vertical-align: top;\n",
       "    }\n",
       "\n",
       "    .dataframe thead th {\n",
       "        text-align: right;\n",
       "    }\n",
       "</style>\n",
       "<table border=\"1\" class=\"dataframe\">\n",
       "  <thead>\n",
       "    <tr style=\"text-align: right;\">\n",
       "      <th></th>\n",
       "      <th>Actual Values</th>\n",
       "      <th>Predicted Values</th>\n",
       "    </tr>\n",
       "  </thead>\n",
       "  <tbody>\n",
       "    <tr>\n",
       "      <th>6061</th>\n",
       "      <td>3.300000</td>\n",
       "      <td>3.208839</td>\n",
       "    </tr>\n",
       "    <tr>\n",
       "      <th>15082</th>\n",
       "      <td>5.990000</td>\n",
       "      <td>6.379042</td>\n",
       "    </tr>\n",
       "    <tr>\n",
       "      <th>4265</th>\n",
       "      <td>6.210000</td>\n",
       "      <td>6.025722</td>\n",
       "    </tr>\n",
       "    <tr>\n",
       "      <th>6309</th>\n",
       "      <td>6.800000</td>\n",
       "      <td>6.642421</td>\n",
       "    </tr>\n",
       "    <tr>\n",
       "      <th>5492</th>\n",
       "      <td>8.692013</td>\n",
       "      <td>8.971586</td>\n",
       "    </tr>\n",
       "    <tr>\n",
       "      <th>...</th>\n",
       "      <td>...</td>\n",
       "      <td>...</td>\n",
       "    </tr>\n",
       "    <tr>\n",
       "      <th>17969</th>\n",
       "      <td>4.550000</td>\n",
       "      <td>3.529473</td>\n",
       "    </tr>\n",
       "    <tr>\n",
       "      <th>13171</th>\n",
       "      <td>3.960000</td>\n",
       "      <td>3.607061</td>\n",
       "    </tr>\n",
       "    <tr>\n",
       "      <th>18066</th>\n",
       "      <td>2.990000</td>\n",
       "      <td>2.888964</td>\n",
       "    </tr>\n",
       "    <tr>\n",
       "      <th>17926</th>\n",
       "      <td>1.400000</td>\n",
       "      <td>2.931166</td>\n",
       "    </tr>\n",
       "    <tr>\n",
       "      <th>18155</th>\n",
       "      <td>9.600000</td>\n",
       "      <td>9.129564</td>\n",
       "    </tr>\n",
       "  </tbody>\n",
       "</table>\n",
       "<p>5868 rows × 2 columns</p>\n",
       "</div>"
      ],
      "text/plain": [
       "       Actual Values  Predicted Values\n",
       "6061        3.300000          3.208839\n",
       "15082       5.990000          6.379042\n",
       "4265        6.210000          6.025722\n",
       "6309        6.800000          6.642421\n",
       "5492        8.692013          8.971586\n",
       "...              ...               ...\n",
       "17969       4.550000          3.529473\n",
       "13171       3.960000          3.607061\n",
       "18066       2.990000          2.888964\n",
       "17926       1.400000          2.931166\n",
       "18155       9.600000          9.129564\n",
       "\n",
       "[5868 rows x 2 columns]"
      ]
     },
     "execution_count": 290,
     "metadata": {},
     "output_type": "execute_result"
    }
   ],
   "source": [
    "result6 = pd.DataFrame({'Actual Values':y_test, 'Predicted Values':y_pred})\n",
    "result6"
   ]
  },
  {
   "cell_type": "code",
   "execution_count": 294,
   "id": "48e10308",
   "metadata": {
    "ExecuteTime": {
     "end_time": "2022-04-01T10:46:01.565250Z",
     "start_time": "2022-04-01T10:46:01.550852Z"
    }
   },
   "outputs": [],
   "source": [
    "x=data2.drop(columns=['SELLING_PRICE'])\n",
    "y=data2.SELLING_PRICE.astype(int)#converting float datatype to int datatype "
   ]
  },
  {
   "cell_type": "code",
   "execution_count": 295,
   "id": "a1b5444a",
   "metadata": {
    "ExecuteTime": {
     "end_time": "2022-04-01T10:46:03.356785Z",
     "start_time": "2022-04-01T10:46:03.333900Z"
    }
   },
   "outputs": [],
   "source": [
    "x_train,x_test,y_train,y_test=train_test_split(x,y,random_state=42,test_size=0.3)"
   ]
  },
  {
   "cell_type": "markdown",
   "id": "b62b0234",
   "metadata": {},
   "source": [
    "## Gaussian Naive Bayes"
   ]
  },
  {
   "cell_type": "code",
   "execution_count": 296,
   "id": "1780e058",
   "metadata": {
    "ExecuteTime": {
     "end_time": "2022-04-01T10:46:05.478689Z",
     "start_time": "2022-04-01T10:46:05.440689Z"
    }
   },
   "outputs": [
    {
     "data": {
      "text/plain": [
       "GaussianNB()"
      ]
     },
     "execution_count": 296,
     "metadata": {},
     "output_type": "execute_result"
    }
   ],
   "source": [
    "from sklearn.naive_bayes import GaussianNB as GB\n",
    "\n",
    "# Gaussian Naive Bayes\n",
    "classifier_gb = GB()\n",
    "classifier_gb.fit(x_train, y_train)"
   ]
  },
  {
   "cell_type": "code",
   "execution_count": 297,
   "id": "b68a6021",
   "metadata": {
    "ExecuteTime": {
     "end_time": "2022-04-01T10:46:07.787280Z",
     "start_time": "2022-04-01T10:46:07.656280Z"
    }
   },
   "outputs": [
    {
     "name": "stdout",
     "output_type": "stream",
     "text": [
      "The train accuracy of Gaussian Naive Bayes is 0.23131984515375065\n"
     ]
    }
   ],
   "source": [
    "score_gaussian_train = classifier_gb.score(x_train,y_train)\n",
    "print('The train accuracy of Gaussian Naive Bayes is', score_gaussian_train)"
   ]
  },
  {
   "cell_type": "code",
   "execution_count": 298,
   "id": "25b2612c",
   "metadata": {
    "ExecuteTime": {
     "end_time": "2022-04-01T10:46:10.672294Z",
     "start_time": "2022-04-01T10:46:10.630688Z"
    }
   },
   "outputs": [
    {
     "name": "stdout",
     "output_type": "stream",
     "text": [
      "The test accuracy of Gaussian Naive Bayes is 0.2256305385139741\n"
     ]
    }
   ],
   "source": [
    "score_gaussian_test = classifier_gb.score(x_test,y_test)\n",
    "print('The test accuracy of Gaussian Naive Bayes is', score_gaussian_test)"
   ]
  },
  {
   "cell_type": "code",
   "execution_count": 300,
   "id": "3a62b765",
   "metadata": {
    "ExecuteTime": {
     "end_time": "2022-04-01T10:46:36.199713Z",
     "start_time": "2022-04-01T10:46:36.087049Z"
    }
   },
   "outputs": [],
   "source": [
    "from sklearn.naive_bayes import GaussianNB \n",
    "naive_bayes = GaussianNB()\n",
    "naive_bayes.fit(x,y)\n",
    "y_pred = naive_bayes.predict(x_test)"
   ]
  },
  {
   "cell_type": "code",
   "execution_count": 301,
   "id": "d8965f9f",
   "metadata": {
    "ExecuteTime": {
     "end_time": "2022-04-01T10:46:38.768145Z",
     "start_time": "2022-04-01T10:46:38.750258Z"
    }
   },
   "outputs": [
    {
     "data": {
      "text/html": [
       "<div>\n",
       "<style scoped>\n",
       "    .dataframe tbody tr th:only-of-type {\n",
       "        vertical-align: middle;\n",
       "    }\n",
       "\n",
       "    .dataframe tbody tr th {\n",
       "        vertical-align: top;\n",
       "    }\n",
       "\n",
       "    .dataframe thead th {\n",
       "        text-align: right;\n",
       "    }\n",
       "</style>\n",
       "<table border=\"1\" class=\"dataframe\">\n",
       "  <thead>\n",
       "    <tr style=\"text-align: right;\">\n",
       "      <th></th>\n",
       "      <th>Actual Values</th>\n",
       "      <th>Predicted Values</th>\n",
       "    </tr>\n",
       "  </thead>\n",
       "  <tbody>\n",
       "    <tr>\n",
       "      <th>6061</th>\n",
       "      <td>3</td>\n",
       "      <td>2</td>\n",
       "    </tr>\n",
       "    <tr>\n",
       "      <th>15082</th>\n",
       "      <td>5</td>\n",
       "      <td>5</td>\n",
       "    </tr>\n",
       "    <tr>\n",
       "      <th>4265</th>\n",
       "      <td>6</td>\n",
       "      <td>4</td>\n",
       "    </tr>\n",
       "    <tr>\n",
       "      <th>6309</th>\n",
       "      <td>6</td>\n",
       "      <td>4</td>\n",
       "    </tr>\n",
       "    <tr>\n",
       "      <th>5492</th>\n",
       "      <td>8</td>\n",
       "      <td>6</td>\n",
       "    </tr>\n",
       "    <tr>\n",
       "      <th>...</th>\n",
       "      <td>...</td>\n",
       "      <td>...</td>\n",
       "    </tr>\n",
       "    <tr>\n",
       "      <th>17969</th>\n",
       "      <td>4</td>\n",
       "      <td>2</td>\n",
       "    </tr>\n",
       "    <tr>\n",
       "      <th>13171</th>\n",
       "      <td>3</td>\n",
       "      <td>1</td>\n",
       "    </tr>\n",
       "    <tr>\n",
       "      <th>18066</th>\n",
       "      <td>2</td>\n",
       "      <td>3</td>\n",
       "    </tr>\n",
       "    <tr>\n",
       "      <th>17926</th>\n",
       "      <td>1</td>\n",
       "      <td>1</td>\n",
       "    </tr>\n",
       "    <tr>\n",
       "      <th>18155</th>\n",
       "      <td>9</td>\n",
       "      <td>5</td>\n",
       "    </tr>\n",
       "  </tbody>\n",
       "</table>\n",
       "<p>5868 rows × 2 columns</p>\n",
       "</div>"
      ],
      "text/plain": [
       "       Actual Values  Predicted Values\n",
       "6061               3                 2\n",
       "15082              5                 5\n",
       "4265               6                 4\n",
       "6309               6                 4\n",
       "5492               8                 6\n",
       "...              ...               ...\n",
       "17969              4                 2\n",
       "13171              3                 1\n",
       "18066              2                 3\n",
       "17926              1                 1\n",
       "18155              9                 5\n",
       "\n",
       "[5868 rows x 2 columns]"
      ]
     },
     "execution_count": 301,
     "metadata": {},
     "output_type": "execute_result"
    }
   ],
   "source": [
    "result7 = pd.DataFrame({'Actual Values':y_test, 'Predicted Values':y_pred})\n",
    "result7"
   ]
  },
  {
   "cell_type": "code",
   "execution_count": 302,
   "id": "347f0bc1",
   "metadata": {
    "ExecuteTime": {
     "end_time": "2022-04-01T10:46:43.008767Z",
     "start_time": "2022-04-01T10:46:42.982730Z"
    }
   },
   "outputs": [
    {
     "name": "stdout",
     "output_type": "stream",
     "text": [
      "        Types of Regression  Train_Accuracy  Test_Accuracy\n",
      "0         Linear Regression       57.356690      56.129898\n",
      "1  Decision Tree Regression       99.921795      79.893742\n",
      "2  Random Forest Regression       97.014830      88.571524\n",
      "3                       KNN       89.204489      84.657283\n",
      "4                   XGBoost       97.595087      92.052384\n",
      "5            Gradient Boost       86.451702      85.050411\n",
      "6      Gaussian Naive Bayes       23.131985      22.563054\n"
     ]
    }
   ],
   "source": [
    "import pandas as pd\n",
    "\n",
    "data = {'Types of Regression': ['Linear Regression', 'Decision Tree Regression', 'Random Forest Regression','KNN','XGBoost','Gradient Boost','Gaussian Naive Bayes'],\n",
    "        'Train_Accuracy': [linear_train_accu*100, dt_train_accu*100, rf_train_accu*100,kn_train_accu*100,xgb_train_accu*100,gb_train_accu*100,score_gaussian_train*100],\n",
    "        'Test_Accuracy': [linear_test_accu*100, dt_test_accu*100, rf_test_accu*100,kn_test_accu*100,xgb_test_accu*100,gb_test_accu*100,score_gaussian_test*100],\n",
    "        }\n",
    "\n",
    "df = pd.DataFrame(data)\n",
    "\n",
    "print (df)"
   ]
  },
  {
   "cell_type": "markdown",
   "id": "9df39066",
   "metadata": {
    "ExecuteTime": {
     "end_time": "2022-03-30T07:22:51.574625Z",
     "start_time": "2022-03-30T07:22:51.565587Z"
    }
   },
   "source": [
    "# Deployment"
   ]
  },
  {
   "cell_type": "code",
   "execution_count": null,
   "id": "d134babc",
   "metadata": {
    "ExecuteTime": {
     "end_time": "2022-04-01T10:45:23.553350Z",
     "start_time": "2022-04-01T10:45:23.553350Z"
    }
   },
   "outputs": [],
   "source": [
    "xgbr.save_model(\"final_xg_model.txt\")# for saving xgb model "
   ]
  }
 ],
 "metadata": {
  "kernelspec": {
   "display_name": "Python 3 (ipykernel)",
   "language": "python",
   "name": "python3"
  },
  "language_info": {
   "codemirror_mode": {
    "name": "ipython",
    "version": 3
   },
   "file_extension": ".py",
   "mimetype": "text/x-python",
   "name": "python",
   "nbconvert_exporter": "python",
   "pygments_lexer": "ipython3",
   "version": "3.9.7"
  },
  "varInspector": {
   "cols": {
    "lenName": 16,
    "lenType": 16,
    "lenVar": 40
   },
   "kernels_config": {
    "python": {
     "delete_cmd_postfix": "",
     "delete_cmd_prefix": "del ",
     "library": "var_list.py",
     "varRefreshCmd": "print(var_dic_list())"
    },
    "r": {
     "delete_cmd_postfix": ") ",
     "delete_cmd_prefix": "rm(",
     "library": "var_list.r",
     "varRefreshCmd": "cat(var_dic_list()) "
    }
   },
   "types_to_exclude": [
    "module",
    "function",
    "builtin_function_or_method",
    "instance",
    "_Feature"
   ],
   "window_display": false
  }
 },
 "nbformat": 4,
 "nbformat_minor": 5
}
